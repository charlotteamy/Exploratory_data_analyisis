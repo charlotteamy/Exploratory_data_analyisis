{
 "cells": [
  {
   "cell_type": "code",
   "execution_count": 1,
   "id": "41e505be",
   "metadata": {
    "_execution_state": "idle",
    "_kg_hide-input": true,
    "_uuid": "051d70d956493feee0c6d64651c6a088724dca2a",
    "execution": {
     "iopub.execute_input": "2022-04-29T14:03:17.388522Z",
     "iopub.status.busy": "2022-04-29T14:03:17.385574Z",
     "iopub.status.idle": "2022-04-29T14:03:18.990776Z",
     "shell.execute_reply": "2022-04-29T14:03:18.988777Z"
    },
    "papermill": {
     "duration": 1.619794,
     "end_time": "2022-04-29T14:03:18.993432",
     "exception": false,
     "start_time": "2022-04-29T14:03:17.373638",
     "status": "completed"
    },
    "tags": []
   },
   "outputs": [
    {
     "name": "stderr",
     "output_type": "stream",
     "text": [
      "── \u001b[1mAttaching packages\u001b[22m ─────────────────────────────────────── tidyverse 1.3.1 ──\n",
      "\n",
      "\u001b[32m✔\u001b[39m \u001b[34mggplot2\u001b[39m 3.3.5     \u001b[32m✔\u001b[39m \u001b[34mpurrr  \u001b[39m 0.3.4\n",
      "\u001b[32m✔\u001b[39m \u001b[34mtibble \u001b[39m 3.1.6     \u001b[32m✔\u001b[39m \u001b[34mdplyr  \u001b[39m 1.0.8\n",
      "\u001b[32m✔\u001b[39m \u001b[34mtidyr  \u001b[39m 1.2.0     \u001b[32m✔\u001b[39m \u001b[34mstringr\u001b[39m 1.4.0\n",
      "\u001b[32m✔\u001b[39m \u001b[34mreadr  \u001b[39m 2.1.2     \u001b[32m✔\u001b[39m \u001b[34mforcats\u001b[39m 0.5.1\n",
      "\n",
      "── \u001b[1mConflicts\u001b[22m ────────────────────────────────────────── tidyverse_conflicts() ──\n",
      "\u001b[31m✖\u001b[39m \u001b[34mdplyr\u001b[39m::\u001b[32mfilter()\u001b[39m masks \u001b[34mstats\u001b[39m::filter()\n",
      "\u001b[31m✖\u001b[39m \u001b[34mdplyr\u001b[39m::\u001b[32mlag()\u001b[39m    masks \u001b[34mstats\u001b[39m::lag()\n",
      "\n",
      "\n",
      "Attaching package: ‘gridExtra’\n",
      "\n",
      "\n",
      "The following object is masked from ‘package:dplyr’:\n",
      "\n",
      "    combine\n",
      "\n",
      "\n",
      "corrplot 0.92 loaded\n",
      "\n",
      "\n",
      "Attaching package: ‘gmodels’\n",
      "\n",
      "\n",
      "The following object is masked from ‘package:descr’:\n",
      "\n",
      "    CrossTable\n",
      "\n",
      "\n"
     ]
    },
    {
     "data": {
      "text/html": [
       "'spaceship-titanic'"
      ],
      "text/latex": [
       "'spaceship-titanic'"
      ],
      "text/markdown": [
       "'spaceship-titanic'"
      ],
      "text/plain": [
       "[1] \"spaceship-titanic\""
      ]
     },
     "metadata": {},
     "output_type": "display_data"
    }
   ],
   "source": [
    "# This R environment comes with many helpful analytics packages installed\n",
    "# It is defined by the kaggle/rstats Docker image: https://github.com/kaggle/docker-rstats\n",
    "# For example, here's a helpful package to load\n",
    "\n",
    "library(tidyverse) # metapackage of all tidyverse packages\n",
    "library(gridExtra)\n",
    "library(corrplot)\n",
    "library(descr)\n",
    "library(gmodels)\n",
    "\n",
    "# Input data files are available in the read-only \"../input/\" directory\n",
    "# For example, running this (by clicking run or pressing Shift+Enter) will list all files under the input directory\n",
    "\n",
    "list.files(path = \"../input\")\n",
    "\n",
    "# You can write up to 20GB to the current directory (/kaggle/working/) that gets preserved as output when you create a version using \"Save & Run All\" \n",
    "# You can also write temporary files to /kaggle/temp/, but they won't be saved outside of the current session"
   ]
  },
  {
   "cell_type": "markdown",
   "id": "1b12cdd0",
   "metadata": {
    "papermill": {
     "duration": 0.008891,
     "end_time": "2022-04-29T14:03:19.011354",
     "exception": false,
     "start_time": "2022-04-29T14:03:19.002463",
     "status": "completed"
    },
    "tags": []
   },
   "source": [
    "# Spaceship Titanic\n",
    "\n",
    "In this EDA - we want to explore the data and understand the steps we need to take for pre-processing.  First let's see what the data looks like."
   ]
  },
  {
   "cell_type": "code",
   "execution_count": 2,
   "id": "2b45db07",
   "metadata": {
    "_kg_hide-input": false,
    "execution": {
     "iopub.execute_input": "2022-04-29T14:03:19.065085Z",
     "iopub.status.busy": "2022-04-29T14:03:19.032997Z",
     "iopub.status.idle": "2022-04-29T14:03:19.404824Z",
     "shell.execute_reply": "2022-04-29T14:03:19.402792Z"
    },
    "papermill": {
     "duration": 0.385966,
     "end_time": "2022-04-29T14:03:19.407677",
     "exception": false,
     "start_time": "2022-04-29T14:03:19.021711",
     "status": "completed"
    },
    "tags": []
   },
   "outputs": [
    {
     "name": "stderr",
     "output_type": "stream",
     "text": [
      "\u001b[1mRows: \u001b[22m\u001b[34m8693\u001b[39m \u001b[1mColumns: \u001b[22m\u001b[34m14\u001b[39m\n",
      "\u001b[36m──\u001b[39m \u001b[1mColumn specification\u001b[22m \u001b[36m────────────────────────────────────────────────────────\u001b[39m\n",
      "\u001b[1mDelimiter:\u001b[22m \",\"\n",
      "\u001b[31mchr\u001b[39m (5): PassengerId, HomePlanet, Cabin, Destination, Name\n",
      "\u001b[32mdbl\u001b[39m (6): Age, RoomService, FoodCourt, ShoppingMall, Spa, VRDeck\n",
      "\u001b[33mlgl\u001b[39m (3): CryoSleep, VIP, Transported\n",
      "\n",
      "\u001b[36mℹ\u001b[39m Use `spec()` to retrieve the full column specification for this data.\n",
      "\u001b[36mℹ\u001b[39m Specify the column types or set `show_col_types = FALSE` to quiet this message.\n"
     ]
    }
   ],
   "source": [
    "#Read in the data\n",
    "\n",
    "df1 <- read_csv('../input/spaceship-titanic/train.csv')"
   ]
  },
  {
   "cell_type": "code",
   "execution_count": 3,
   "id": "0f0a9771",
   "metadata": {
    "_kg_hide-input": false,
    "execution": {
     "iopub.execute_input": "2022-04-29T14:03:19.429588Z",
     "iopub.status.busy": "2022-04-29T14:03:19.427898Z",
     "iopub.status.idle": "2022-04-29T14:03:19.469742Z",
     "shell.execute_reply": "2022-04-29T14:03:19.467521Z"
    },
    "papermill": {
     "duration": 0.055946,
     "end_time": "2022-04-29T14:03:19.473019",
     "exception": false,
     "start_time": "2022-04-29T14:03:19.417073",
     "status": "completed"
    },
    "tags": []
   },
   "outputs": [
    {
     "name": "stdout",
     "output_type": "stream",
     "text": [
      "spec_tbl_df [8,693 × 14] (S3: spec_tbl_df/tbl_df/tbl/data.frame)\n",
      " $ PassengerId : chr [1:8693] \"0001_01\" \"0002_01\" \"0003_01\" \"0003_02\" ...\n",
      " $ HomePlanet  : chr [1:8693] \"Europa\" \"Earth\" \"Europa\" \"Europa\" ...\n",
      " $ CryoSleep   : logi [1:8693] FALSE FALSE FALSE FALSE FALSE FALSE ...\n",
      " $ Cabin       : chr [1:8693] \"B/0/P\" \"F/0/S\" \"A/0/S\" \"A/0/S\" ...\n",
      " $ Destination : chr [1:8693] \"TRAPPIST-1e\" \"TRAPPIST-1e\" \"TRAPPIST-1e\" \"TRAPPIST-1e\" ...\n",
      " $ Age         : num [1:8693] 39 24 58 33 16 44 26 28 35 14 ...\n",
      " $ VIP         : logi [1:8693] FALSE FALSE TRUE FALSE FALSE FALSE ...\n",
      " $ RoomService : num [1:8693] 0 109 43 0 303 0 42 0 0 0 ...\n",
      " $ FoodCourt   : num [1:8693] 0 9 3576 1283 70 ...\n",
      " $ ShoppingMall: num [1:8693] 0 25 0 371 151 0 3 0 17 0 ...\n",
      " $ Spa         : num [1:8693] 0 549 6715 3329 565 ...\n",
      " $ VRDeck      : num [1:8693] 0 44 49 193 2 0 0 NA 0 0 ...\n",
      " $ Name        : chr [1:8693] \"Maham Ofracculy\" \"Juanna Vines\" \"Altark Susent\" \"Solam Susent\" ...\n",
      " $ Transported : logi [1:8693] FALSE TRUE FALSE FALSE TRUE TRUE ...\n",
      " - attr(*, \"spec\")=\n",
      "  .. cols(\n",
      "  ..   PassengerId = \u001b[31mcol_character()\u001b[39m,\n",
      "  ..   HomePlanet = \u001b[31mcol_character()\u001b[39m,\n",
      "  ..   CryoSleep = \u001b[33mcol_logical()\u001b[39m,\n",
      "  ..   Cabin = \u001b[31mcol_character()\u001b[39m,\n",
      "  ..   Destination = \u001b[31mcol_character()\u001b[39m,\n",
      "  ..   Age = \u001b[32mcol_double()\u001b[39m,\n",
      "  ..   VIP = \u001b[33mcol_logical()\u001b[39m,\n",
      "  ..   RoomService = \u001b[32mcol_double()\u001b[39m,\n",
      "  ..   FoodCourt = \u001b[32mcol_double()\u001b[39m,\n",
      "  ..   ShoppingMall = \u001b[32mcol_double()\u001b[39m,\n",
      "  ..   Spa = \u001b[32mcol_double()\u001b[39m,\n",
      "  ..   VRDeck = \u001b[32mcol_double()\u001b[39m,\n",
      "  ..   Name = \u001b[31mcol_character()\u001b[39m,\n",
      "  ..   Transported = \u001b[33mcol_logical()\u001b[39m\n",
      "  .. )\n",
      " - attr(*, \"problems\")=<externalptr> \n"
     ]
    }
   ],
   "source": [
    "#Get overview of the data\n",
    "str(df1)"
   ]
  },
  {
   "cell_type": "markdown",
   "id": "3f44b4cb",
   "metadata": {
    "papermill": {
     "duration": 0.009477,
     "end_time": "2022-04-29T14:03:19.491813",
     "exception": false,
     "start_time": "2022-04-29T14:03:19.482336",
     "status": "completed"
    },
    "tags": []
   },
   "source": [
    "# Univariate analysis\n"
   ]
  },
  {
   "cell_type": "markdown",
   "id": "b9768360",
   "metadata": {
    "papermill": {
     "duration": 0.009559,
     "end_time": "2022-04-29T14:03:19.512194",
     "exception": false,
     "start_time": "2022-04-29T14:03:19.502635",
     "status": "completed"
    },
    "tags": []
   },
   "source": [
    "# Target variable analysis \n",
    "First let's understand the target variable"
   ]
  },
  {
   "cell_type": "code",
   "execution_count": 4,
   "id": "ea10f9f5",
   "metadata": {
    "_kg_hide-input": false,
    "execution": {
     "iopub.execute_input": "2022-04-29T14:03:19.534804Z",
     "iopub.status.busy": "2022-04-29T14:03:19.532880Z",
     "iopub.status.idle": "2022-04-29T14:03:19.595798Z",
     "shell.execute_reply": "2022-04-29T14:03:19.593080Z"
    },
    "papermill": {
     "duration": 0.08043,
     "end_time": "2022-04-29T14:03:19.602408",
     "exception": false,
     "start_time": "2022-04-29T14:03:19.521978",
     "status": "completed"
    },
    "tags": []
   },
   "outputs": [
    {
     "data": {
      "text/html": [
       "<table class=\"dataframe\">\n",
       "<caption>A spec_tbl_df: 2 × 2</caption>\n",
       "<thead>\n",
       "\t<tr><th scope=col>Transported</th><th scope=col>n</th></tr>\n",
       "\t<tr><th scope=col>&lt;lgl&gt;</th><th scope=col>&lt;int&gt;</th></tr>\n",
       "</thead>\n",
       "<tbody>\n",
       "\t<tr><td>FALSE</td><td>4315</td></tr>\n",
       "\t<tr><td> TRUE</td><td>4378</td></tr>\n",
       "</tbody>\n",
       "</table>\n"
      ],
      "text/latex": [
       "A spec\\_tbl\\_df: 2 × 2\n",
       "\\begin{tabular}{ll}\n",
       " Transported & n\\\\\n",
       " <lgl> & <int>\\\\\n",
       "\\hline\n",
       "\t FALSE & 4315\\\\\n",
       "\t  TRUE & 4378\\\\\n",
       "\\end{tabular}\n"
      ],
      "text/markdown": [
       "\n",
       "A spec_tbl_df: 2 × 2\n",
       "\n",
       "| Transported &lt;lgl&gt; | n &lt;int&gt; |\n",
       "|---|---|\n",
       "| FALSE | 4315 |\n",
       "|  TRUE | 4378 |\n",
       "\n"
      ],
      "text/plain": [
       "  Transported n   \n",
       "1 FALSE       4315\n",
       "2  TRUE       4378"
      ]
     },
     "metadata": {},
     "output_type": "display_data"
    }
   ],
   "source": [
    "#Understand the distribution of the target variable\n",
    "df1 %>%\n",
    "count(Transported)"
   ]
  },
  {
   "cell_type": "markdown",
   "id": "cddbbc69",
   "metadata": {
    "papermill": {
     "duration": 0.014096,
     "end_time": "2022-04-29T14:03:19.630530",
     "exception": false,
     "start_time": "2022-04-29T14:03:19.616434",
     "status": "completed"
    },
    "tags": []
   },
   "source": [
    "The data looks balanced so no further sampling is required.\n"
   ]
  },
  {
   "cell_type": "markdown",
   "id": "815a313f",
   "metadata": {
    "papermill": {
     "duration": 0.010128,
     "end_time": "2022-04-29T14:03:19.650786",
     "exception": false,
     "start_time": "2022-04-29T14:03:19.640658",
     "status": "completed"
    },
    "tags": []
   },
   "source": [
    "# Missing values\n",
    "Next let's understand the variables that have a high proportion of missing values"
   ]
  },
  {
   "cell_type": "code",
   "execution_count": 5,
   "id": "fb52e36b",
   "metadata": {
    "_kg_hide-input": false,
    "execution": {
     "iopub.execute_input": "2022-04-29T14:03:19.673763Z",
     "iopub.status.busy": "2022-04-29T14:03:19.671896Z",
     "iopub.status.idle": "2022-04-29T14:03:19.696847Z",
     "shell.execute_reply": "2022-04-29T14:03:19.694526Z"
    },
    "papermill": {
     "duration": 0.039234,
     "end_time": "2022-04-29T14:03:19.699740",
     "exception": false,
     "start_time": "2022-04-29T14:03:19.660506",
     "status": "completed"
    },
    "tags": []
   },
   "outputs": [
    {
     "data": {
      "text/html": [
       "<style>\n",
       ".dl-inline {width: auto; margin:0; padding: 0}\n",
       ".dl-inline>dt, .dl-inline>dd {float: none; width: auto; display: inline-block}\n",
       ".dl-inline>dt::after {content: \":\\0020\"; padding-right: .5ex}\n",
       ".dl-inline>dt:not(:first-of-type) {padding-left: .5ex}\n",
       "</style><dl class=dl-inline><dt>PassengerId</dt><dd>0</dd><dt>HomePlanet</dt><dd>201</dd><dt>CryoSleep</dt><dd>217</dd><dt>Cabin</dt><dd>199</dd><dt>Destination</dt><dd>182</dd><dt>Age</dt><dd>179</dd><dt>VIP</dt><dd>203</dd><dt>RoomService</dt><dd>181</dd><dt>FoodCourt</dt><dd>183</dd><dt>ShoppingMall</dt><dd>208</dd><dt>Spa</dt><dd>183</dd><dt>VRDeck</dt><dd>188</dd><dt>Name</dt><dd>200</dd><dt>Transported</dt><dd>0</dd></dl>\n"
      ],
      "text/latex": [
       "\\begin{description*}\n",
       "\\item[PassengerId] 0\n",
       "\\item[HomePlanet] 201\n",
       "\\item[CryoSleep] 217\n",
       "\\item[Cabin] 199\n",
       "\\item[Destination] 182\n",
       "\\item[Age] 179\n",
       "\\item[VIP] 203\n",
       "\\item[RoomService] 181\n",
       "\\item[FoodCourt] 183\n",
       "\\item[ShoppingMall] 208\n",
       "\\item[Spa] 183\n",
       "\\item[VRDeck] 188\n",
       "\\item[Name] 200\n",
       "\\item[Transported] 0\n",
       "\\end{description*}\n"
      ],
      "text/markdown": [
       "PassengerId\n",
       ":   0HomePlanet\n",
       ":   201CryoSleep\n",
       ":   217Cabin\n",
       ":   199Destination\n",
       ":   182Age\n",
       ":   179VIP\n",
       ":   203RoomService\n",
       ":   181FoodCourt\n",
       ":   183ShoppingMall\n",
       ":   208Spa\n",
       ":   183VRDeck\n",
       ":   188Name\n",
       ":   200Transported\n",
       ":   0\n",
       "\n"
      ],
      "text/plain": [
       " PassengerId   HomePlanet    CryoSleep        Cabin  Destination          Age \n",
       "           0          201          217          199          182          179 \n",
       "         VIP  RoomService    FoodCourt ShoppingMall          Spa       VRDeck \n",
       "         203          181          183          208          183          188 \n",
       "        Name  Transported \n",
       "         200            0 "
      ]
     },
     "metadata": {},
     "output_type": "display_data"
    }
   ],
   "source": [
    "#Calculate how many missing values there are by column\n",
    "sapply(X = df1, FUN = function(x) sum(is.na(x)))"
   ]
  },
  {
   "cell_type": "markdown",
   "id": "9e948f84",
   "metadata": {
    "papermill": {
     "duration": 0.010649,
     "end_time": "2022-04-29T14:03:19.722847",
     "exception": false,
     "start_time": "2022-04-29T14:03:19.712198",
     "status": "completed"
    },
    "tags": []
   },
   "source": [
    "All the columns apart from the index and target variable have missing values.  Need to check if these are consistent for the passenger ID and remove them in pre-processing. "
   ]
  },
  {
   "cell_type": "code",
   "execution_count": 6,
   "id": "9dd05c72",
   "metadata": {
    "_kg_hide-input": false,
    "execution": {
     "iopub.execute_input": "2022-04-29T14:03:19.745954Z",
     "iopub.status.busy": "2022-04-29T14:03:19.744084Z",
     "iopub.status.idle": "2022-04-29T14:03:19.950427Z",
     "shell.execute_reply": "2022-04-29T14:03:19.947395Z"
    },
    "papermill": {
     "duration": 0.22111,
     "end_time": "2022-04-29T14:03:19.953680",
     "exception": false,
     "start_time": "2022-04-29T14:03:19.732570",
     "status": "completed"
    },
    "tags": []
   },
   "outputs": [
    {
     "data": {
      "text/html": [
       "<table class=\"dataframe\">\n",
       "<caption>A spec_tbl_df: 8693 × 15</caption>\n",
       "<thead>\n",
       "\t<tr><th scope=col>PassengerId</th><th scope=col>HomePlanet</th><th scope=col>CryoSleep</th><th scope=col>Cabin</th><th scope=col>Destination</th><th scope=col>Age</th><th scope=col>VIP</th><th scope=col>RoomService</th><th scope=col>FoodCourt</th><th scope=col>ShoppingMall</th><th scope=col>Spa</th><th scope=col>VRDeck</th><th scope=col>Name</th><th scope=col>Transported</th><th scope=col>count_na</th></tr>\n",
       "\t<tr><th scope=col>&lt;chr&gt;</th><th scope=col>&lt;chr&gt;</th><th scope=col>&lt;lgl&gt;</th><th scope=col>&lt;chr&gt;</th><th scope=col>&lt;chr&gt;</th><th scope=col>&lt;dbl&gt;</th><th scope=col>&lt;lgl&gt;</th><th scope=col>&lt;dbl&gt;</th><th scope=col>&lt;dbl&gt;</th><th scope=col>&lt;dbl&gt;</th><th scope=col>&lt;dbl&gt;</th><th scope=col>&lt;dbl&gt;</th><th scope=col>&lt;chr&gt;</th><th scope=col>&lt;lgl&gt;</th><th scope=col>&lt;dbl&gt;</th></tr>\n",
       "</thead>\n",
       "<tbody>\n",
       "\t<tr><td>1284_01</td><td>Mars  </td><td> TRUE</td><td>F/247/S </td><td>NA           </td><td>NA</td><td>FALSE</td><td>  0</td><td>  NA</td><td>   0</td><td>   0</td><td>   0</td><td>Hal Knité         </td><td> TRUE</td><td>3</td></tr>\n",
       "\t<tr><td>2822_02</td><td>Earth </td><td>   NA</td><td>G/450/S </td><td>TRAPPIST-1e  </td><td> 5</td><td>   NA</td><td>  0</td><td>   0</td><td>   0</td><td>   0</td><td>  NA</td><td>Salley Harverez   </td><td>FALSE</td><td>3</td></tr>\n",
       "\t<tr><td>2970_01</td><td>Earth </td><td>FALSE</td><td>NA      </td><td>TRAPPIST-1e  </td><td>NA</td><td>FALSE</td><td>740</td><td>  82</td><td>   6</td><td>  NA</td><td>   1</td><td>Dwin Adkinson     </td><td>FALSE</td><td>3</td></tr>\n",
       "\t<tr><td>3315_01</td><td>Earth </td><td>   NA</td><td>F/627/S </td><td>TRAPPIST-1e  </td><td>15</td><td>FALSE</td><td> 10</td><td>   0</td><td>  99</td><td>  NA</td><td>2031</td><td>NA                </td><td>FALSE</td><td>3</td></tr>\n",
       "\t<tr><td>3790_01</td><td>NA    </td><td> TRUE</td><td>G/620/P </td><td>TRAPPIST-1e  </td><td>13</td><td>FALSE</td><td>  0</td><td>  NA</td><td>   0</td><td>  NA</td><td>   0</td><td>Trick Meyersones  </td><td> TRUE</td><td>3</td></tr>\n",
       "\t<tr><td>4167_01</td><td>Earth </td><td>FALSE</td><td>NA      </td><td>PSO J318.5-22</td><td>NA</td><td>   NA</td><td>  0</td><td> 440</td><td>   0</td><td>   0</td><td> 334</td><td>Ninaha Deckerson  </td><td>FALSE</td><td>3</td></tr>\n",
       "\t<tr><td>4446_05</td><td>Europa</td><td>   NA</td><td>B/175/S </td><td>TRAPPIST-1e  </td><td>33</td><td>FALSE</td><td>  0</td><td>4017</td><td>  NA</td><td>  NA</td><td>2260</td><td>Phah Chocaters    </td><td> TRUE</td><td>3</td></tr>\n",
       "\t<tr><td>4840_01</td><td>NA    </td><td> TRUE</td><td>F/915/S </td><td>TRAPPIST-1e  </td><td>36</td><td>FALSE</td><td>  0</td><td>   0</td><td>  NA</td><td>   0</td><td>   0</td><td>NA                </td><td> TRUE</td><td>3</td></tr>\n",
       "\t<tr><td>5555_01</td><td>NA    </td><td>FALSE</td><td>G/896/S </td><td>NA           </td><td>43</td><td>   NA</td><td>  1</td><td>   0</td><td> 213</td><td>   7</td><td> 701</td><td>Winia Blanglison  </td><td> TRUE</td><td>3</td></tr>\n",
       "\t<tr><td>5777_01</td><td>Earth </td><td>   NA</td><td>F/1199/P</td><td>PSO J318.5-22</td><td>46</td><td>   NA</td><td>559</td><td>  25</td><td>  NA</td><td>  22</td><td> 765</td><td>Katen River       </td><td>FALSE</td><td>3</td></tr>\n",
       "\t<tr><td>6141_02</td><td>Earth </td><td>FALSE</td><td>NA      </td><td>NA           </td><td>21</td><td>FALSE</td><td> 28</td><td>   0</td><td>   0</td><td> 662</td><td>   0</td><td>NA                </td><td>FALSE</td><td>3</td></tr>\n",
       "\t<tr><td>6405_02</td><td>Earth </td><td>   NA</td><td>NA      </td><td>NA           </td><td> 2</td><td>FALSE</td><td>  0</td><td>   0</td><td>   0</td><td>   0</td><td>   0</td><td>Feline Toddleton  </td><td> TRUE</td><td>3</td></tr>\n",
       "\t<tr><td>6451_01</td><td>Mars  </td><td>FALSE</td><td>NA      </td><td>NA           </td><td>37</td><td>FALSE</td><td>610</td><td>  NA</td><td> 410</td><td> 148</td><td>  14</td><td>Carkes Panad      </td><td>FALSE</td><td>3</td></tr>\n",
       "\t<tr><td>7314_01</td><td>Europa</td><td>   NA</td><td>C/237/P </td><td>NA           </td><td>33</td><td>FALSE</td><td>  0</td><td>   0</td><td>   0</td><td>  NA</td><td>   0</td><td>Aldun Venticable  </td><td> TRUE</td><td>3</td></tr>\n",
       "\t<tr><td>7472_01</td><td>Mars  </td><td> TRUE</td><td>F/1426/S</td><td>TRAPPIST-1e  </td><td>NA</td><td>FALSE</td><td>  0</td><td>   0</td><td>   0</td><td>   0</td><td>  NA</td><td>NA                </td><td> TRUE</td><td>3</td></tr>\n",
       "\t<tr><td>7703_02</td><td>NA    </td><td> TRUE</td><td>G/1251/S</td><td>TRAPPIST-1e  </td><td>13</td><td>FALSE</td><td>  0</td><td>   0</td><td>  NA</td><td>   0</td><td>   0</td><td>NA                </td><td> TRUE</td><td>3</td></tr>\n",
       "\t<tr><td>8202_03</td><td>NA    </td><td> TRUE</td><td>C/306/S </td><td>TRAPPIST-1e  </td><td>NA</td><td>FALSE</td><td>  0</td><td>   0</td><td>   0</td><td>   0</td><td>  NA</td><td>Charga Unkcatted  </td><td> TRUE</td><td>3</td></tr>\n",
       "\t<tr><td>0064_02</td><td>NA    </td><td> TRUE</td><td>E/3/S   </td><td>TRAPPIST-1e  </td><td>33</td><td>FALSE</td><td>  0</td><td>   0</td><td>  NA</td><td>   0</td><td>   0</td><td>Colatz Keen       </td><td> TRUE</td><td>2</td></tr>\n",
       "\t<tr><td>0115_01</td><td>Mars  </td><td>   NA</td><td>F/24/P  </td><td>TRAPPIST-1e  </td><td>26</td><td>FALSE</td><td>  0</td><td>   0</td><td>   0</td><td>   0</td><td>  NA</td><td>Rohs Pead         </td><td> TRUE</td><td>2</td></tr>\n",
       "\t<tr><td>0202_02</td><td>Europa</td><td>FALSE</td><td>A/2/P   </td><td>55 Cancri e  </td><td>NA</td><td>FALSE</td><td>  0</td><td>2433</td><td>  NA</td><td> 878</td><td> 443</td><td>Vegas Embleng     </td><td> TRUE</td><td>2</td></tr>\n",
       "\t<tr><td>0210_01</td><td>NA    </td><td> TRUE</td><td>D/6/P   </td><td>55 Cancri e  </td><td>24</td><td>FALSE</td><td>  0</td><td>   0</td><td>  NA</td><td>   0</td><td>   0</td><td>Arraid Inicont    </td><td> TRUE</td><td>2</td></tr>\n",
       "\t<tr><td>0278_01</td><td>Earth </td><td>FALSE</td><td>NA      </td><td>TRAPPIST-1e  </td><td>35</td><td>FALSE</td><td>  0</td><td>   0</td><td>   0</td><td> 888</td><td>  NA</td><td>Judya Beachez     </td><td>FALSE</td><td>2</td></tr>\n",
       "\t<tr><td>0310_01</td><td>Europa</td><td>FALSE</td><td>NA      </td><td>TRAPPIST-1e  </td><td>67</td><td>FALSE</td><td> NA</td><td> 230</td><td>   0</td><td>4476</td><td> 241</td><td>Naviton Coudered  </td><td>FALSE</td><td>2</td></tr>\n",
       "\t<tr><td>0313_02</td><td>Earth </td><td> TRUE</td><td>G/50/P  </td><td>55 Cancri e  </td><td>NA</td><td>FALSE</td><td>  0</td><td>   0</td><td>  NA</td><td>   0</td><td>   0</td><td>Jona Mckinsond    </td><td> TRUE</td><td>2</td></tr>\n",
       "\t<tr><td>0348_02</td><td>Mars  </td><td>   NA</td><td>NA      </td><td>TRAPPIST-1e  </td><td>36</td><td>FALSE</td><td>520</td><td>   0</td><td>1865</td><td>   0</td><td>   0</td><td>Weet Mane         </td><td> TRUE</td><td>2</td></tr>\n",
       "\t<tr><td>0382_01</td><td>NA    </td><td>FALSE</td><td>G/64/P  </td><td>NA           </td><td>23</td><td>FALSE</td><td>348</td><td>   0</td><td>   0</td><td>   4</td><td> 368</td><td>Blanie Floydendley</td><td>FALSE</td><td>2</td></tr>\n",
       "\t<tr><td>0498_01</td><td>Europa</td><td> TRUE</td><td>NA      </td><td>55 Cancri e  </td><td>27</td><td>FALSE</td><td>  0</td><td>  NA</td><td>   0</td><td>   0</td><td>   0</td><td>Batomam Preent    </td><td> TRUE</td><td>2</td></tr>\n",
       "\t<tr><td>0520_01</td><td>Earth </td><td>FALSE</td><td>G/78/S  </td><td>TRAPPIST-1e  </td><td>55</td><td>FALSE</td><td> 62</td><td>  NA</td><td>   0</td><td>   0</td><td>  NA</td><td>Bel Mcguirez      </td><td>FALSE</td><td>2</td></tr>\n",
       "\t<tr><td>0539_01</td><td>Europa</td><td> TRUE</td><td>C/18/P  </td><td>TRAPPIST-1e  </td><td>NA</td><td>FALSE</td><td>  0</td><td>   0</td><td>  NA</td><td>   0</td><td>   0</td><td>Tard Nalanet      </td><td> TRUE</td><td>2</td></tr>\n",
       "\t<tr><td>0568_02</td><td>Europa</td><td> TRUE</td><td>D/20/S  </td><td>55 Cancri e  </td><td>NA</td><td>FALSE</td><td>  0</td><td>   0</td><td>   0</td><td>   0</td><td>  NA</td><td>Pentard Baciffhaut</td><td> TRUE</td><td>2</td></tr>\n",
       "\t<tr><td>⋮</td><td>⋮</td><td>⋮</td><td>⋮</td><td>⋮</td><td>⋮</td><td>⋮</td><td>⋮</td><td>⋮</td><td>⋮</td><td>⋮</td><td>⋮</td><td>⋮</td><td>⋮</td><td>⋮</td></tr>\n",
       "\t<tr><td>9231_02</td><td>Mars  </td><td>FALSE</td><td>F/1888/P</td><td>TRAPPIST-1e  </td><td> 0</td><td>FALSE</td><td>  0</td><td>   0</td><td>   0</td><td>   0</td><td>   0</td><td>Walls Paie        </td><td> TRUE</td><td>0</td></tr>\n",
       "\t<tr><td>9231_03</td><td>Mars  </td><td>FALSE</td><td>E/592/P </td><td>TRAPPIST-1e  </td><td>22</td><td>FALSE</td><td>  0</td><td>   0</td><td>   0</td><td>   0</td><td>   0</td><td>Cus Paie          </td><td>FALSE</td><td>0</td></tr>\n",
       "\t<tr><td>9234_01</td><td>Earth </td><td>FALSE</td><td>G/1500/P</td><td>TRAPPIST-1e  </td><td>49</td><td>FALSE</td><td>  6</td><td>   1</td><td> 638</td><td>1107</td><td>  23</td><td>Catha Bushins     </td><td>FALSE</td><td>0</td></tr>\n",
       "\t<tr><td>9235_01</td><td>Earth </td><td>FALSE</td><td>F/1789/S</td><td>TRAPPIST-1e  </td><td>30</td><td>FALSE</td><td>  8</td><td> 752</td><td>   0</td><td>   0</td><td> 687</td><td>Joanny Burchrison </td><td> TRUE</td><td>0</td></tr>\n",
       "\t<tr><td>9237_01</td><td>Earth </td><td> TRUE</td><td>G/1488/S</td><td>TRAPPIST-1e  </td><td>37</td><td>FALSE</td><td>  0</td><td>   0</td><td>   0</td><td>   0</td><td>   0</td><td>Philda Floways    </td><td>FALSE</td><td>0</td></tr>\n",
       "\t<tr><td>9239_01</td><td>Mars  </td><td>FALSE</td><td>E/593/P </td><td>TRAPPIST-1e  </td><td>14</td><td>FALSE</td><td>  2</td><td>   0</td><td> 918</td><td> 128</td><td>   0</td><td>Per Minen         </td><td>FALSE</td><td>0</td></tr>\n",
       "\t<tr><td>9241_01</td><td>Mars  </td><td>FALSE</td><td>E/595/P </td><td>TRAPPIST-1e  </td><td>30</td><td>FALSE</td><td>699</td><td>   0</td><td> 600</td><td>   0</td><td>   0</td><td>Ants Fone         </td><td>FALSE</td><td>0</td></tr>\n",
       "\t<tr><td>9242_01</td><td>Earth </td><td>FALSE</td><td>F/1891/P</td><td>TRAPPIST-1e  </td><td>62</td><td>FALSE</td><td>102</td><td> 696</td><td>   0</td><td>   0</td><td>   0</td><td>Dary Bakerrison   </td><td> TRUE</td><td>0</td></tr>\n",
       "\t<tr><td>9244_01</td><td>Earth </td><td> TRUE</td><td>G/1489/S</td><td>PSO J318.5-22</td><td>13</td><td>FALSE</td><td>  0</td><td>   0</td><td>   0</td><td>   0</td><td>   0</td><td>Chrisa Francock   </td><td> TRUE</td><td>0</td></tr>\n",
       "\t<tr><td>9251_01</td><td>Mars  </td><td> TRUE</td><td>F/1793/S</td><td>TRAPPIST-1e  </td><td>25</td><td>FALSE</td><td>  0</td><td>   0</td><td>   0</td><td>   0</td><td>   0</td><td>Melios Kashe      </td><td> TRUE</td><td>0</td></tr>\n",
       "\t<tr><td>9252_01</td><td>Europa</td><td>FALSE</td><td>B/301/P </td><td>55 Cancri e  </td><td>26</td><td>FALSE</td><td>  0</td><td>8160</td><td> 205</td><td>   0</td><td> 438</td><td>Alchium Stranbeate</td><td> TRUE</td><td>0</td></tr>\n",
       "\t<tr><td>9252_02</td><td>Europa</td><td> TRUE</td><td>B/301/P </td><td>55 Cancri e  </td><td>19</td><td>FALSE</td><td>  0</td><td>   0</td><td>   0</td><td>   0</td><td>   0</td><td>Muonon Stranbeate </td><td> TRUE</td><td>0</td></tr>\n",
       "\t<tr><td>9253_01</td><td>Earth </td><td> TRUE</td><td>G/1493/S</td><td>PSO J318.5-22</td><td>16</td><td>FALSE</td><td>  0</td><td>   0</td><td>   0</td><td>   0</td><td>   0</td><td>Jimmyn Thomason   </td><td> TRUE</td><td>0</td></tr>\n",
       "\t<tr><td>9254_01</td><td>Earth </td><td> TRUE</td><td>G/1502/P</td><td>PSO J318.5-22</td><td>61</td><td>FALSE</td><td>  0</td><td>   0</td><td>   0</td><td>   0</td><td>   0</td><td>Kenny Mallerez    </td><td>FALSE</td><td>0</td></tr>\n",
       "\t<tr><td>9256_01</td><td>Earth </td><td> TRUE</td><td>G/1494/S</td><td>TRAPPIST-1e  </td><td>28</td><td>FALSE</td><td>  0</td><td>   0</td><td>   0</td><td>   0</td><td>   0</td><td>Darley Franton    </td><td> TRUE</td><td>0</td></tr>\n",
       "\t<tr><td>9261_01</td><td>Earth </td><td> TRUE</td><td>G/1504/P</td><td>PSO J318.5-22</td><td>22</td><td>FALSE</td><td>  0</td><td>   0</td><td>   0</td><td>   0</td><td>   0</td><td>Therta Casentry   </td><td>FALSE</td><td>0</td></tr>\n",
       "\t<tr><td>9264_01</td><td>Europa</td><td> TRUE</td><td>E/606/S </td><td>55 Cancri e  </td><td>30</td><td>FALSE</td><td>  0</td><td>   0</td><td>   0</td><td>   0</td><td>   0</td><td>Giedir Sionerorly </td><td> TRUE</td><td>0</td></tr>\n",
       "\t<tr><td>9267_01</td><td>Europa</td><td> TRUE</td><td>E/607/S </td><td>TRAPPIST-1e  </td><td>21</td><td>FALSE</td><td>  0</td><td>   0</td><td>   0</td><td>   0</td><td>   0</td><td>Arraid Opshaft    </td><td> TRUE</td><td>0</td></tr>\n",
       "\t<tr><td>9267_02</td><td>Europa</td><td> TRUE</td><td>E/607/S </td><td>TRAPPIST-1e  </td><td>20</td><td>FALSE</td><td>  0</td><td>   0</td><td>   0</td><td>   0</td><td>   0</td><td>Sabi Opshaft      </td><td> TRUE</td><td>0</td></tr>\n",
       "\t<tr><td>9268_01</td><td>Earth </td><td> TRUE</td><td>G/1505/P</td><td>TRAPPIST-1e  </td><td>31</td><td>FALSE</td><td>  0</td><td>   0</td><td>   0</td><td>   0</td><td>   0</td><td>Agnesa Baldson    </td><td> TRUE</td><td>0</td></tr>\n",
       "\t<tr><td>9270_01</td><td>Earth </td><td> TRUE</td><td>G/1497/S</td><td>55 Cancri e  </td><td>33</td><td>FALSE</td><td>  0</td><td>   0</td><td>   0</td><td>   0</td><td>   0</td><td>Lan Mckinsond     </td><td> TRUE</td><td>0</td></tr>\n",
       "\t<tr><td>9272_01</td><td>Earth </td><td>FALSE</td><td>G/1507/P</td><td>TRAPPIST-1e  </td><td>26</td><td>FALSE</td><td>240</td><td> 242</td><td> 510</td><td>   0</td><td>   0</td><td>Ireene Simson     </td><td> TRUE</td><td>0</td></tr>\n",
       "\t<tr><td>9272_02</td><td>Earth </td><td>FALSE</td><td>F/1894/P</td><td>TRAPPIST-1e  </td><td>21</td><td>FALSE</td><td> 86</td><td>   3</td><td> 149</td><td> 208</td><td> 329</td><td>Gordo Simson      </td><td>FALSE</td><td>0</td></tr>\n",
       "\t<tr><td>9275_01</td><td>Europa</td><td>FALSE</td><td>A/97/P  </td><td>TRAPPIST-1e  </td><td> 0</td><td>FALSE</td><td>  0</td><td>   0</td><td>   0</td><td>   0</td><td>   0</td><td>Polaton Conable   </td><td> TRUE</td><td>0</td></tr>\n",
       "\t<tr><td>9275_02</td><td>Europa</td><td>FALSE</td><td>A/97/P  </td><td>TRAPPIST-1e  </td><td>32</td><td>FALSE</td><td>  1</td><td>1146</td><td>   0</td><td>  50</td><td>  34</td><td>Diram Conable     </td><td>FALSE</td><td>0</td></tr>\n",
       "\t<tr><td>9276_01</td><td>Europa</td><td>FALSE</td><td>A/98/P  </td><td>55 Cancri e  </td><td>41</td><td> TRUE</td><td>  0</td><td>6819</td><td>   0</td><td>1643</td><td>  74</td><td>Gravior Noxnuther </td><td>FALSE</td><td>0</td></tr>\n",
       "\t<tr><td>9278_01</td><td>Earth </td><td> TRUE</td><td>G/1499/S</td><td>PSO J318.5-22</td><td>18</td><td>FALSE</td><td>  0</td><td>   0</td><td>   0</td><td>   0</td><td>   0</td><td>Kurta Mondalley   </td><td>FALSE</td><td>0</td></tr>\n",
       "\t<tr><td>9279_01</td><td>Earth </td><td>FALSE</td><td>G/1500/S</td><td>TRAPPIST-1e  </td><td>26</td><td>FALSE</td><td>  0</td><td>   0</td><td>1872</td><td>   1</td><td>   0</td><td>Fayey Connon      </td><td> TRUE</td><td>0</td></tr>\n",
       "\t<tr><td>9280_01</td><td>Europa</td><td>FALSE</td><td>E/608/S </td><td>55 Cancri e  </td><td>32</td><td>FALSE</td><td>  0</td><td>1049</td><td>   0</td><td> 353</td><td>3235</td><td>Celeon Hontichre  </td><td>FALSE</td><td>0</td></tr>\n",
       "\t<tr><td>9280_02</td><td>Europa</td><td>FALSE</td><td>E/608/S </td><td>TRAPPIST-1e  </td><td>44</td><td>FALSE</td><td>126</td><td>4688</td><td>   0</td><td>   0</td><td>  12</td><td>Propsh Hontichre  </td><td> TRUE</td><td>0</td></tr>\n",
       "</tbody>\n",
       "</table>\n"
      ],
      "text/latex": [
       "A spec\\_tbl\\_df: 8693 × 15\n",
       "\\begin{tabular}{lllllllllllllll}\n",
       " PassengerId & HomePlanet & CryoSleep & Cabin & Destination & Age & VIP & RoomService & FoodCourt & ShoppingMall & Spa & VRDeck & Name & Transported & count\\_na\\\\\n",
       " <chr> & <chr> & <lgl> & <chr> & <chr> & <dbl> & <lgl> & <dbl> & <dbl> & <dbl> & <dbl> & <dbl> & <chr> & <lgl> & <dbl>\\\\\n",
       "\\hline\n",
       "\t 1284\\_01 & Mars   &  TRUE & F/247/S  & NA            & NA & FALSE &   0 &   NA &    0 &    0 &    0 & Hal Knité          &  TRUE & 3\\\\\n",
       "\t 2822\\_02 & Earth  &    NA & G/450/S  & TRAPPIST-1e   &  5 &    NA &   0 &    0 &    0 &    0 &   NA & Salley Harverez    & FALSE & 3\\\\\n",
       "\t 2970\\_01 & Earth  & FALSE & NA       & TRAPPIST-1e   & NA & FALSE & 740 &   82 &    6 &   NA &    1 & Dwin Adkinson      & FALSE & 3\\\\\n",
       "\t 3315\\_01 & Earth  &    NA & F/627/S  & TRAPPIST-1e   & 15 & FALSE &  10 &    0 &   99 &   NA & 2031 & NA                 & FALSE & 3\\\\\n",
       "\t 3790\\_01 & NA     &  TRUE & G/620/P  & TRAPPIST-1e   & 13 & FALSE &   0 &   NA &    0 &   NA &    0 & Trick Meyersones   &  TRUE & 3\\\\\n",
       "\t 4167\\_01 & Earth  & FALSE & NA       & PSO J318.5-22 & NA &    NA &   0 &  440 &    0 &    0 &  334 & Ninaha Deckerson   & FALSE & 3\\\\\n",
       "\t 4446\\_05 & Europa &    NA & B/175/S  & TRAPPIST-1e   & 33 & FALSE &   0 & 4017 &   NA &   NA & 2260 & Phah Chocaters     &  TRUE & 3\\\\\n",
       "\t 4840\\_01 & NA     &  TRUE & F/915/S  & TRAPPIST-1e   & 36 & FALSE &   0 &    0 &   NA &    0 &    0 & NA                 &  TRUE & 3\\\\\n",
       "\t 5555\\_01 & NA     & FALSE & G/896/S  & NA            & 43 &    NA &   1 &    0 &  213 &    7 &  701 & Winia Blanglison   &  TRUE & 3\\\\\n",
       "\t 5777\\_01 & Earth  &    NA & F/1199/P & PSO J318.5-22 & 46 &    NA & 559 &   25 &   NA &   22 &  765 & Katen River        & FALSE & 3\\\\\n",
       "\t 6141\\_02 & Earth  & FALSE & NA       & NA            & 21 & FALSE &  28 &    0 &    0 &  662 &    0 & NA                 & FALSE & 3\\\\\n",
       "\t 6405\\_02 & Earth  &    NA & NA       & NA            &  2 & FALSE &   0 &    0 &    0 &    0 &    0 & Feline Toddleton   &  TRUE & 3\\\\\n",
       "\t 6451\\_01 & Mars   & FALSE & NA       & NA            & 37 & FALSE & 610 &   NA &  410 &  148 &   14 & Carkes Panad       & FALSE & 3\\\\\n",
       "\t 7314\\_01 & Europa &    NA & C/237/P  & NA            & 33 & FALSE &   0 &    0 &    0 &   NA &    0 & Aldun Venticable   &  TRUE & 3\\\\\n",
       "\t 7472\\_01 & Mars   &  TRUE & F/1426/S & TRAPPIST-1e   & NA & FALSE &   0 &    0 &    0 &    0 &   NA & NA                 &  TRUE & 3\\\\\n",
       "\t 7703\\_02 & NA     &  TRUE & G/1251/S & TRAPPIST-1e   & 13 & FALSE &   0 &    0 &   NA &    0 &    0 & NA                 &  TRUE & 3\\\\\n",
       "\t 8202\\_03 & NA     &  TRUE & C/306/S  & TRAPPIST-1e   & NA & FALSE &   0 &    0 &    0 &    0 &   NA & Charga Unkcatted   &  TRUE & 3\\\\\n",
       "\t 0064\\_02 & NA     &  TRUE & E/3/S    & TRAPPIST-1e   & 33 & FALSE &   0 &    0 &   NA &    0 &    0 & Colatz Keen        &  TRUE & 2\\\\\n",
       "\t 0115\\_01 & Mars   &    NA & F/24/P   & TRAPPIST-1e   & 26 & FALSE &   0 &    0 &    0 &    0 &   NA & Rohs Pead          &  TRUE & 2\\\\\n",
       "\t 0202\\_02 & Europa & FALSE & A/2/P    & 55 Cancri e   & NA & FALSE &   0 & 2433 &   NA &  878 &  443 & Vegas Embleng      &  TRUE & 2\\\\\n",
       "\t 0210\\_01 & NA     &  TRUE & D/6/P    & 55 Cancri e   & 24 & FALSE &   0 &    0 &   NA &    0 &    0 & Arraid Inicont     &  TRUE & 2\\\\\n",
       "\t 0278\\_01 & Earth  & FALSE & NA       & TRAPPIST-1e   & 35 & FALSE &   0 &    0 &    0 &  888 &   NA & Judya Beachez      & FALSE & 2\\\\\n",
       "\t 0310\\_01 & Europa & FALSE & NA       & TRAPPIST-1e   & 67 & FALSE &  NA &  230 &    0 & 4476 &  241 & Naviton Coudered   & FALSE & 2\\\\\n",
       "\t 0313\\_02 & Earth  &  TRUE & G/50/P   & 55 Cancri e   & NA & FALSE &   0 &    0 &   NA &    0 &    0 & Jona Mckinsond     &  TRUE & 2\\\\\n",
       "\t 0348\\_02 & Mars   &    NA & NA       & TRAPPIST-1e   & 36 & FALSE & 520 &    0 & 1865 &    0 &    0 & Weet Mane          &  TRUE & 2\\\\\n",
       "\t 0382\\_01 & NA     & FALSE & G/64/P   & NA            & 23 & FALSE & 348 &    0 &    0 &    4 &  368 & Blanie Floydendley & FALSE & 2\\\\\n",
       "\t 0498\\_01 & Europa &  TRUE & NA       & 55 Cancri e   & 27 & FALSE &   0 &   NA &    0 &    0 &    0 & Batomam Preent     &  TRUE & 2\\\\\n",
       "\t 0520\\_01 & Earth  & FALSE & G/78/S   & TRAPPIST-1e   & 55 & FALSE &  62 &   NA &    0 &    0 &   NA & Bel Mcguirez       & FALSE & 2\\\\\n",
       "\t 0539\\_01 & Europa &  TRUE & C/18/P   & TRAPPIST-1e   & NA & FALSE &   0 &    0 &   NA &    0 &    0 & Tard Nalanet       &  TRUE & 2\\\\\n",
       "\t 0568\\_02 & Europa &  TRUE & D/20/S   & 55 Cancri e   & NA & FALSE &   0 &    0 &    0 &    0 &   NA & Pentard Baciffhaut &  TRUE & 2\\\\\n",
       "\t ⋮ & ⋮ & ⋮ & ⋮ & ⋮ & ⋮ & ⋮ & ⋮ & ⋮ & ⋮ & ⋮ & ⋮ & ⋮ & ⋮ & ⋮\\\\\n",
       "\t 9231\\_02 & Mars   & FALSE & F/1888/P & TRAPPIST-1e   &  0 & FALSE &   0 &    0 &    0 &    0 &    0 & Walls Paie         &  TRUE & 0\\\\\n",
       "\t 9231\\_03 & Mars   & FALSE & E/592/P  & TRAPPIST-1e   & 22 & FALSE &   0 &    0 &    0 &    0 &    0 & Cus Paie           & FALSE & 0\\\\\n",
       "\t 9234\\_01 & Earth  & FALSE & G/1500/P & TRAPPIST-1e   & 49 & FALSE &   6 &    1 &  638 & 1107 &   23 & Catha Bushins      & FALSE & 0\\\\\n",
       "\t 9235\\_01 & Earth  & FALSE & F/1789/S & TRAPPIST-1e   & 30 & FALSE &   8 &  752 &    0 &    0 &  687 & Joanny Burchrison  &  TRUE & 0\\\\\n",
       "\t 9237\\_01 & Earth  &  TRUE & G/1488/S & TRAPPIST-1e   & 37 & FALSE &   0 &    0 &    0 &    0 &    0 & Philda Floways     & FALSE & 0\\\\\n",
       "\t 9239\\_01 & Mars   & FALSE & E/593/P  & TRAPPIST-1e   & 14 & FALSE &   2 &    0 &  918 &  128 &    0 & Per Minen          & FALSE & 0\\\\\n",
       "\t 9241\\_01 & Mars   & FALSE & E/595/P  & TRAPPIST-1e   & 30 & FALSE & 699 &    0 &  600 &    0 &    0 & Ants Fone          & FALSE & 0\\\\\n",
       "\t 9242\\_01 & Earth  & FALSE & F/1891/P & TRAPPIST-1e   & 62 & FALSE & 102 &  696 &    0 &    0 &    0 & Dary Bakerrison    &  TRUE & 0\\\\\n",
       "\t 9244\\_01 & Earth  &  TRUE & G/1489/S & PSO J318.5-22 & 13 & FALSE &   0 &    0 &    0 &    0 &    0 & Chrisa Francock    &  TRUE & 0\\\\\n",
       "\t 9251\\_01 & Mars   &  TRUE & F/1793/S & TRAPPIST-1e   & 25 & FALSE &   0 &    0 &    0 &    0 &    0 & Melios Kashe       &  TRUE & 0\\\\\n",
       "\t 9252\\_01 & Europa & FALSE & B/301/P  & 55 Cancri e   & 26 & FALSE &   0 & 8160 &  205 &    0 &  438 & Alchium Stranbeate &  TRUE & 0\\\\\n",
       "\t 9252\\_02 & Europa &  TRUE & B/301/P  & 55 Cancri e   & 19 & FALSE &   0 &    0 &    0 &    0 &    0 & Muonon Stranbeate  &  TRUE & 0\\\\\n",
       "\t 9253\\_01 & Earth  &  TRUE & G/1493/S & PSO J318.5-22 & 16 & FALSE &   0 &    0 &    0 &    0 &    0 & Jimmyn Thomason    &  TRUE & 0\\\\\n",
       "\t 9254\\_01 & Earth  &  TRUE & G/1502/P & PSO J318.5-22 & 61 & FALSE &   0 &    0 &    0 &    0 &    0 & Kenny Mallerez     & FALSE & 0\\\\\n",
       "\t 9256\\_01 & Earth  &  TRUE & G/1494/S & TRAPPIST-1e   & 28 & FALSE &   0 &    0 &    0 &    0 &    0 & Darley Franton     &  TRUE & 0\\\\\n",
       "\t 9261\\_01 & Earth  &  TRUE & G/1504/P & PSO J318.5-22 & 22 & FALSE &   0 &    0 &    0 &    0 &    0 & Therta Casentry    & FALSE & 0\\\\\n",
       "\t 9264\\_01 & Europa &  TRUE & E/606/S  & 55 Cancri e   & 30 & FALSE &   0 &    0 &    0 &    0 &    0 & Giedir Sionerorly  &  TRUE & 0\\\\\n",
       "\t 9267\\_01 & Europa &  TRUE & E/607/S  & TRAPPIST-1e   & 21 & FALSE &   0 &    0 &    0 &    0 &    0 & Arraid Opshaft     &  TRUE & 0\\\\\n",
       "\t 9267\\_02 & Europa &  TRUE & E/607/S  & TRAPPIST-1e   & 20 & FALSE &   0 &    0 &    0 &    0 &    0 & Sabi Opshaft       &  TRUE & 0\\\\\n",
       "\t 9268\\_01 & Earth  &  TRUE & G/1505/P & TRAPPIST-1e   & 31 & FALSE &   0 &    0 &    0 &    0 &    0 & Agnesa Baldson     &  TRUE & 0\\\\\n",
       "\t 9270\\_01 & Earth  &  TRUE & G/1497/S & 55 Cancri e   & 33 & FALSE &   0 &    0 &    0 &    0 &    0 & Lan Mckinsond      &  TRUE & 0\\\\\n",
       "\t 9272\\_01 & Earth  & FALSE & G/1507/P & TRAPPIST-1e   & 26 & FALSE & 240 &  242 &  510 &    0 &    0 & Ireene Simson      &  TRUE & 0\\\\\n",
       "\t 9272\\_02 & Earth  & FALSE & F/1894/P & TRAPPIST-1e   & 21 & FALSE &  86 &    3 &  149 &  208 &  329 & Gordo Simson       & FALSE & 0\\\\\n",
       "\t 9275\\_01 & Europa & FALSE & A/97/P   & TRAPPIST-1e   &  0 & FALSE &   0 &    0 &    0 &    0 &    0 & Polaton Conable    &  TRUE & 0\\\\\n",
       "\t 9275\\_02 & Europa & FALSE & A/97/P   & TRAPPIST-1e   & 32 & FALSE &   1 & 1146 &    0 &   50 &   34 & Diram Conable      & FALSE & 0\\\\\n",
       "\t 9276\\_01 & Europa & FALSE & A/98/P   & 55 Cancri e   & 41 &  TRUE &   0 & 6819 &    0 & 1643 &   74 & Gravior Noxnuther  & FALSE & 0\\\\\n",
       "\t 9278\\_01 & Earth  &  TRUE & G/1499/S & PSO J318.5-22 & 18 & FALSE &   0 &    0 &    0 &    0 &    0 & Kurta Mondalley    & FALSE & 0\\\\\n",
       "\t 9279\\_01 & Earth  & FALSE & G/1500/S & TRAPPIST-1e   & 26 & FALSE &   0 &    0 & 1872 &    1 &    0 & Fayey Connon       &  TRUE & 0\\\\\n",
       "\t 9280\\_01 & Europa & FALSE & E/608/S  & 55 Cancri e   & 32 & FALSE &   0 & 1049 &    0 &  353 & 3235 & Celeon Hontichre   & FALSE & 0\\\\\n",
       "\t 9280\\_02 & Europa & FALSE & E/608/S  & TRAPPIST-1e   & 44 & FALSE & 126 & 4688 &    0 &    0 &   12 & Propsh Hontichre   &  TRUE & 0\\\\\n",
       "\\end{tabular}\n"
      ],
      "text/markdown": [
       "\n",
       "A spec_tbl_df: 8693 × 15\n",
       "\n",
       "| PassengerId &lt;chr&gt; | HomePlanet &lt;chr&gt; | CryoSleep &lt;lgl&gt; | Cabin &lt;chr&gt; | Destination &lt;chr&gt; | Age &lt;dbl&gt; | VIP &lt;lgl&gt; | RoomService &lt;dbl&gt; | FoodCourt &lt;dbl&gt; | ShoppingMall &lt;dbl&gt; | Spa &lt;dbl&gt; | VRDeck &lt;dbl&gt; | Name &lt;chr&gt; | Transported &lt;lgl&gt; | count_na &lt;dbl&gt; |\n",
       "|---|---|---|---|---|---|---|---|---|---|---|---|---|---|---|\n",
       "| 1284_01 | Mars   |  TRUE | F/247/S  | NA            | NA | FALSE |   0 |   NA |    0 |    0 |    0 | Hal Knité          |  TRUE | 3 |\n",
       "| 2822_02 | Earth  |    NA | G/450/S  | TRAPPIST-1e   |  5 |    NA |   0 |    0 |    0 |    0 |   NA | Salley Harverez    | FALSE | 3 |\n",
       "| 2970_01 | Earth  | FALSE | NA       | TRAPPIST-1e   | NA | FALSE | 740 |   82 |    6 |   NA |    1 | Dwin Adkinson      | FALSE | 3 |\n",
       "| 3315_01 | Earth  |    NA | F/627/S  | TRAPPIST-1e   | 15 | FALSE |  10 |    0 |   99 |   NA | 2031 | NA                 | FALSE | 3 |\n",
       "| 3790_01 | NA     |  TRUE | G/620/P  | TRAPPIST-1e   | 13 | FALSE |   0 |   NA |    0 |   NA |    0 | Trick Meyersones   |  TRUE | 3 |\n",
       "| 4167_01 | Earth  | FALSE | NA       | PSO J318.5-22 | NA |    NA |   0 |  440 |    0 |    0 |  334 | Ninaha Deckerson   | FALSE | 3 |\n",
       "| 4446_05 | Europa |    NA | B/175/S  | TRAPPIST-1e   | 33 | FALSE |   0 | 4017 |   NA |   NA | 2260 | Phah Chocaters     |  TRUE | 3 |\n",
       "| 4840_01 | NA     |  TRUE | F/915/S  | TRAPPIST-1e   | 36 | FALSE |   0 |    0 |   NA |    0 |    0 | NA                 |  TRUE | 3 |\n",
       "| 5555_01 | NA     | FALSE | G/896/S  | NA            | 43 |    NA |   1 |    0 |  213 |    7 |  701 | Winia Blanglison   |  TRUE | 3 |\n",
       "| 5777_01 | Earth  |    NA | F/1199/P | PSO J318.5-22 | 46 |    NA | 559 |   25 |   NA |   22 |  765 | Katen River        | FALSE | 3 |\n",
       "| 6141_02 | Earth  | FALSE | NA       | NA            | 21 | FALSE |  28 |    0 |    0 |  662 |    0 | NA                 | FALSE | 3 |\n",
       "| 6405_02 | Earth  |    NA | NA       | NA            |  2 | FALSE |   0 |    0 |    0 |    0 |    0 | Feline Toddleton   |  TRUE | 3 |\n",
       "| 6451_01 | Mars   | FALSE | NA       | NA            | 37 | FALSE | 610 |   NA |  410 |  148 |   14 | Carkes Panad       | FALSE | 3 |\n",
       "| 7314_01 | Europa |    NA | C/237/P  | NA            | 33 | FALSE |   0 |    0 |    0 |   NA |    0 | Aldun Venticable   |  TRUE | 3 |\n",
       "| 7472_01 | Mars   |  TRUE | F/1426/S | TRAPPIST-1e   | NA | FALSE |   0 |    0 |    0 |    0 |   NA | NA                 |  TRUE | 3 |\n",
       "| 7703_02 | NA     |  TRUE | G/1251/S | TRAPPIST-1e   | 13 | FALSE |   0 |    0 |   NA |    0 |    0 | NA                 |  TRUE | 3 |\n",
       "| 8202_03 | NA     |  TRUE | C/306/S  | TRAPPIST-1e   | NA | FALSE |   0 |    0 |    0 |    0 |   NA | Charga Unkcatted   |  TRUE | 3 |\n",
       "| 0064_02 | NA     |  TRUE | E/3/S    | TRAPPIST-1e   | 33 | FALSE |   0 |    0 |   NA |    0 |    0 | Colatz Keen        |  TRUE | 2 |\n",
       "| 0115_01 | Mars   |    NA | F/24/P   | TRAPPIST-1e   | 26 | FALSE |   0 |    0 |    0 |    0 |   NA | Rohs Pead          |  TRUE | 2 |\n",
       "| 0202_02 | Europa | FALSE | A/2/P    | 55 Cancri e   | NA | FALSE |   0 | 2433 |   NA |  878 |  443 | Vegas Embleng      |  TRUE | 2 |\n",
       "| 0210_01 | NA     |  TRUE | D/6/P    | 55 Cancri e   | 24 | FALSE |   0 |    0 |   NA |    0 |    0 | Arraid Inicont     |  TRUE | 2 |\n",
       "| 0278_01 | Earth  | FALSE | NA       | TRAPPIST-1e   | 35 | FALSE |   0 |    0 |    0 |  888 |   NA | Judya Beachez      | FALSE | 2 |\n",
       "| 0310_01 | Europa | FALSE | NA       | TRAPPIST-1e   | 67 | FALSE |  NA |  230 |    0 | 4476 |  241 | Naviton Coudered   | FALSE | 2 |\n",
       "| 0313_02 | Earth  |  TRUE | G/50/P   | 55 Cancri e   | NA | FALSE |   0 |    0 |   NA |    0 |    0 | Jona Mckinsond     |  TRUE | 2 |\n",
       "| 0348_02 | Mars   |    NA | NA       | TRAPPIST-1e   | 36 | FALSE | 520 |    0 | 1865 |    0 |    0 | Weet Mane          |  TRUE | 2 |\n",
       "| 0382_01 | NA     | FALSE | G/64/P   | NA            | 23 | FALSE | 348 |    0 |    0 |    4 |  368 | Blanie Floydendley | FALSE | 2 |\n",
       "| 0498_01 | Europa |  TRUE | NA       | 55 Cancri e   | 27 | FALSE |   0 |   NA |    0 |    0 |    0 | Batomam Preent     |  TRUE | 2 |\n",
       "| 0520_01 | Earth  | FALSE | G/78/S   | TRAPPIST-1e   | 55 | FALSE |  62 |   NA |    0 |    0 |   NA | Bel Mcguirez       | FALSE | 2 |\n",
       "| 0539_01 | Europa |  TRUE | C/18/P   | TRAPPIST-1e   | NA | FALSE |   0 |    0 |   NA |    0 |    0 | Tard Nalanet       |  TRUE | 2 |\n",
       "| 0568_02 | Europa |  TRUE | D/20/S   | 55 Cancri e   | NA | FALSE |   0 |    0 |    0 |    0 |   NA | Pentard Baciffhaut |  TRUE | 2 |\n",
       "| ⋮ | ⋮ | ⋮ | ⋮ | ⋮ | ⋮ | ⋮ | ⋮ | ⋮ | ⋮ | ⋮ | ⋮ | ⋮ | ⋮ | ⋮ |\n",
       "| 9231_02 | Mars   | FALSE | F/1888/P | TRAPPIST-1e   |  0 | FALSE |   0 |    0 |    0 |    0 |    0 | Walls Paie         |  TRUE | 0 |\n",
       "| 9231_03 | Mars   | FALSE | E/592/P  | TRAPPIST-1e   | 22 | FALSE |   0 |    0 |    0 |    0 |    0 | Cus Paie           | FALSE | 0 |\n",
       "| 9234_01 | Earth  | FALSE | G/1500/P | TRAPPIST-1e   | 49 | FALSE |   6 |    1 |  638 | 1107 |   23 | Catha Bushins      | FALSE | 0 |\n",
       "| 9235_01 | Earth  | FALSE | F/1789/S | TRAPPIST-1e   | 30 | FALSE |   8 |  752 |    0 |    0 |  687 | Joanny Burchrison  |  TRUE | 0 |\n",
       "| 9237_01 | Earth  |  TRUE | G/1488/S | TRAPPIST-1e   | 37 | FALSE |   0 |    0 |    0 |    0 |    0 | Philda Floways     | FALSE | 0 |\n",
       "| 9239_01 | Mars   | FALSE | E/593/P  | TRAPPIST-1e   | 14 | FALSE |   2 |    0 |  918 |  128 |    0 | Per Minen          | FALSE | 0 |\n",
       "| 9241_01 | Mars   | FALSE | E/595/P  | TRAPPIST-1e   | 30 | FALSE | 699 |    0 |  600 |    0 |    0 | Ants Fone          | FALSE | 0 |\n",
       "| 9242_01 | Earth  | FALSE | F/1891/P | TRAPPIST-1e   | 62 | FALSE | 102 |  696 |    0 |    0 |    0 | Dary Bakerrison    |  TRUE | 0 |\n",
       "| 9244_01 | Earth  |  TRUE | G/1489/S | PSO J318.5-22 | 13 | FALSE |   0 |    0 |    0 |    0 |    0 | Chrisa Francock    |  TRUE | 0 |\n",
       "| 9251_01 | Mars   |  TRUE | F/1793/S | TRAPPIST-1e   | 25 | FALSE |   0 |    0 |    0 |    0 |    0 | Melios Kashe       |  TRUE | 0 |\n",
       "| 9252_01 | Europa | FALSE | B/301/P  | 55 Cancri e   | 26 | FALSE |   0 | 8160 |  205 |    0 |  438 | Alchium Stranbeate |  TRUE | 0 |\n",
       "| 9252_02 | Europa |  TRUE | B/301/P  | 55 Cancri e   | 19 | FALSE |   0 |    0 |    0 |    0 |    0 | Muonon Stranbeate  |  TRUE | 0 |\n",
       "| 9253_01 | Earth  |  TRUE | G/1493/S | PSO J318.5-22 | 16 | FALSE |   0 |    0 |    0 |    0 |    0 | Jimmyn Thomason    |  TRUE | 0 |\n",
       "| 9254_01 | Earth  |  TRUE | G/1502/P | PSO J318.5-22 | 61 | FALSE |   0 |    0 |    0 |    0 |    0 | Kenny Mallerez     | FALSE | 0 |\n",
       "| 9256_01 | Earth  |  TRUE | G/1494/S | TRAPPIST-1e   | 28 | FALSE |   0 |    0 |    0 |    0 |    0 | Darley Franton     |  TRUE | 0 |\n",
       "| 9261_01 | Earth  |  TRUE | G/1504/P | PSO J318.5-22 | 22 | FALSE |   0 |    0 |    0 |    0 |    0 | Therta Casentry    | FALSE | 0 |\n",
       "| 9264_01 | Europa |  TRUE | E/606/S  | 55 Cancri e   | 30 | FALSE |   0 |    0 |    0 |    0 |    0 | Giedir Sionerorly  |  TRUE | 0 |\n",
       "| 9267_01 | Europa |  TRUE | E/607/S  | TRAPPIST-1e   | 21 | FALSE |   0 |    0 |    0 |    0 |    0 | Arraid Opshaft     |  TRUE | 0 |\n",
       "| 9267_02 | Europa |  TRUE | E/607/S  | TRAPPIST-1e   | 20 | FALSE |   0 |    0 |    0 |    0 |    0 | Sabi Opshaft       |  TRUE | 0 |\n",
       "| 9268_01 | Earth  |  TRUE | G/1505/P | TRAPPIST-1e   | 31 | FALSE |   0 |    0 |    0 |    0 |    0 | Agnesa Baldson     |  TRUE | 0 |\n",
       "| 9270_01 | Earth  |  TRUE | G/1497/S | 55 Cancri e   | 33 | FALSE |   0 |    0 |    0 |    0 |    0 | Lan Mckinsond      |  TRUE | 0 |\n",
       "| 9272_01 | Earth  | FALSE | G/1507/P | TRAPPIST-1e   | 26 | FALSE | 240 |  242 |  510 |    0 |    0 | Ireene Simson      |  TRUE | 0 |\n",
       "| 9272_02 | Earth  | FALSE | F/1894/P | TRAPPIST-1e   | 21 | FALSE |  86 |    3 |  149 |  208 |  329 | Gordo Simson       | FALSE | 0 |\n",
       "| 9275_01 | Europa | FALSE | A/97/P   | TRAPPIST-1e   |  0 | FALSE |   0 |    0 |    0 |    0 |    0 | Polaton Conable    |  TRUE | 0 |\n",
       "| 9275_02 | Europa | FALSE | A/97/P   | TRAPPIST-1e   | 32 | FALSE |   1 | 1146 |    0 |   50 |   34 | Diram Conable      | FALSE | 0 |\n",
       "| 9276_01 | Europa | FALSE | A/98/P   | 55 Cancri e   | 41 |  TRUE |   0 | 6819 |    0 | 1643 |   74 | Gravior Noxnuther  | FALSE | 0 |\n",
       "| 9278_01 | Earth  |  TRUE | G/1499/S | PSO J318.5-22 | 18 | FALSE |   0 |    0 |    0 |    0 |    0 | Kurta Mondalley    | FALSE | 0 |\n",
       "| 9279_01 | Earth  | FALSE | G/1500/S | TRAPPIST-1e   | 26 | FALSE |   0 |    0 | 1872 |    1 |    0 | Fayey Connon       |  TRUE | 0 |\n",
       "| 9280_01 | Europa | FALSE | E/608/S  | 55 Cancri e   | 32 | FALSE |   0 | 1049 |    0 |  353 | 3235 | Celeon Hontichre   | FALSE | 0 |\n",
       "| 9280_02 | Europa | FALSE | E/608/S  | TRAPPIST-1e   | 44 | FALSE | 126 | 4688 |    0 |    0 |   12 | Propsh Hontichre   |  TRUE | 0 |\n",
       "\n"
      ],
      "text/plain": [
       "     PassengerId HomePlanet CryoSleep Cabin    Destination   Age VIP  \n",
       "1    1284_01     Mars        TRUE     F/247/S  NA            NA  FALSE\n",
       "2    2822_02     Earth         NA     G/450/S  TRAPPIST-1e    5     NA\n",
       "3    2970_01     Earth      FALSE     NA       TRAPPIST-1e   NA  FALSE\n",
       "4    3315_01     Earth         NA     F/627/S  TRAPPIST-1e   15  FALSE\n",
       "5    3790_01     NA          TRUE     G/620/P  TRAPPIST-1e   13  FALSE\n",
       "6    4167_01     Earth      FALSE     NA       PSO J318.5-22 NA     NA\n",
       "7    4446_05     Europa        NA     B/175/S  TRAPPIST-1e   33  FALSE\n",
       "8    4840_01     NA          TRUE     F/915/S  TRAPPIST-1e   36  FALSE\n",
       "9    5555_01     NA         FALSE     G/896/S  NA            43     NA\n",
       "10   5777_01     Earth         NA     F/1199/P PSO J318.5-22 46     NA\n",
       "11   6141_02     Earth      FALSE     NA       NA            21  FALSE\n",
       "12   6405_02     Earth         NA     NA       NA             2  FALSE\n",
       "13   6451_01     Mars       FALSE     NA       NA            37  FALSE\n",
       "14   7314_01     Europa        NA     C/237/P  NA            33  FALSE\n",
       "15   7472_01     Mars        TRUE     F/1426/S TRAPPIST-1e   NA  FALSE\n",
       "16   7703_02     NA          TRUE     G/1251/S TRAPPIST-1e   13  FALSE\n",
       "17   8202_03     NA          TRUE     C/306/S  TRAPPIST-1e   NA  FALSE\n",
       "18   0064_02     NA          TRUE     E/3/S    TRAPPIST-1e   33  FALSE\n",
       "19   0115_01     Mars          NA     F/24/P   TRAPPIST-1e   26  FALSE\n",
       "20   0202_02     Europa     FALSE     A/2/P    55 Cancri e   NA  FALSE\n",
       "21   0210_01     NA          TRUE     D/6/P    55 Cancri e   24  FALSE\n",
       "22   0278_01     Earth      FALSE     NA       TRAPPIST-1e   35  FALSE\n",
       "23   0310_01     Europa     FALSE     NA       TRAPPIST-1e   67  FALSE\n",
       "24   0313_02     Earth       TRUE     G/50/P   55 Cancri e   NA  FALSE\n",
       "25   0348_02     Mars          NA     NA       TRAPPIST-1e   36  FALSE\n",
       "26   0382_01     NA         FALSE     G/64/P   NA            23  FALSE\n",
       "27   0498_01     Europa      TRUE     NA       55 Cancri e   27  FALSE\n",
       "28   0520_01     Earth      FALSE     G/78/S   TRAPPIST-1e   55  FALSE\n",
       "29   0539_01     Europa      TRUE     C/18/P   TRAPPIST-1e   NA  FALSE\n",
       "30   0568_02     Europa      TRUE     D/20/S   55 Cancri e   NA  FALSE\n",
       "⋮    ⋮           ⋮          ⋮         ⋮        ⋮             ⋮   ⋮    \n",
       "8664 9231_02     Mars       FALSE     F/1888/P TRAPPIST-1e    0  FALSE\n",
       "8665 9231_03     Mars       FALSE     E/592/P  TRAPPIST-1e   22  FALSE\n",
       "8666 9234_01     Earth      FALSE     G/1500/P TRAPPIST-1e   49  FALSE\n",
       "8667 9235_01     Earth      FALSE     F/1789/S TRAPPIST-1e   30  FALSE\n",
       "8668 9237_01     Earth       TRUE     G/1488/S TRAPPIST-1e   37  FALSE\n",
       "8669 9239_01     Mars       FALSE     E/593/P  TRAPPIST-1e   14  FALSE\n",
       "8670 9241_01     Mars       FALSE     E/595/P  TRAPPIST-1e   30  FALSE\n",
       "8671 9242_01     Earth      FALSE     F/1891/P TRAPPIST-1e   62  FALSE\n",
       "8672 9244_01     Earth       TRUE     G/1489/S PSO J318.5-22 13  FALSE\n",
       "8673 9251_01     Mars        TRUE     F/1793/S TRAPPIST-1e   25  FALSE\n",
       "8674 9252_01     Europa     FALSE     B/301/P  55 Cancri e   26  FALSE\n",
       "8675 9252_02     Europa      TRUE     B/301/P  55 Cancri e   19  FALSE\n",
       "8676 9253_01     Earth       TRUE     G/1493/S PSO J318.5-22 16  FALSE\n",
       "8677 9254_01     Earth       TRUE     G/1502/P PSO J318.5-22 61  FALSE\n",
       "8678 9256_01     Earth       TRUE     G/1494/S TRAPPIST-1e   28  FALSE\n",
       "8679 9261_01     Earth       TRUE     G/1504/P PSO J318.5-22 22  FALSE\n",
       "8680 9264_01     Europa      TRUE     E/606/S  55 Cancri e   30  FALSE\n",
       "8681 9267_01     Europa      TRUE     E/607/S  TRAPPIST-1e   21  FALSE\n",
       "8682 9267_02     Europa      TRUE     E/607/S  TRAPPIST-1e   20  FALSE\n",
       "8683 9268_01     Earth       TRUE     G/1505/P TRAPPIST-1e   31  FALSE\n",
       "8684 9270_01     Earth       TRUE     G/1497/S 55 Cancri e   33  FALSE\n",
       "8685 9272_01     Earth      FALSE     G/1507/P TRAPPIST-1e   26  FALSE\n",
       "8686 9272_02     Earth      FALSE     F/1894/P TRAPPIST-1e   21  FALSE\n",
       "8687 9275_01     Europa     FALSE     A/97/P   TRAPPIST-1e    0  FALSE\n",
       "8688 9275_02     Europa     FALSE     A/97/P   TRAPPIST-1e   32  FALSE\n",
       "8689 9276_01     Europa     FALSE     A/98/P   55 Cancri e   41   TRUE\n",
       "8690 9278_01     Earth       TRUE     G/1499/S PSO J318.5-22 18  FALSE\n",
       "8691 9279_01     Earth      FALSE     G/1500/S TRAPPIST-1e   26  FALSE\n",
       "8692 9280_01     Europa     FALSE     E/608/S  55 Cancri e   32  FALSE\n",
       "8693 9280_02     Europa     FALSE     E/608/S  TRAPPIST-1e   44  FALSE\n",
       "     RoomService FoodCourt ShoppingMall Spa  VRDeck Name              \n",
       "1      0           NA         0            0    0   Hal Knité         \n",
       "2      0            0         0            0   NA   Salley Harverez   \n",
       "3    740           82         6           NA    1   Dwin Adkinson     \n",
       "4     10            0        99           NA 2031   NA                \n",
       "5      0           NA         0           NA    0   Trick Meyersones  \n",
       "6      0          440         0            0  334   Ninaha Deckerson  \n",
       "7      0         4017        NA           NA 2260   Phah Chocaters    \n",
       "8      0            0        NA            0    0   NA                \n",
       "9      1            0       213            7  701   Winia Blanglison  \n",
       "10   559           25        NA           22  765   Katen River       \n",
       "11    28            0         0          662    0   NA                \n",
       "12     0            0         0            0    0   Feline Toddleton  \n",
       "13   610           NA       410          148   14   Carkes Panad      \n",
       "14     0            0         0           NA    0   Aldun Venticable  \n",
       "15     0            0         0            0   NA   NA                \n",
       "16     0            0        NA            0    0   NA                \n",
       "17     0            0         0            0   NA   Charga Unkcatted  \n",
       "18     0            0        NA            0    0   Colatz Keen       \n",
       "19     0            0         0            0   NA   Rohs Pead         \n",
       "20     0         2433        NA          878  443   Vegas Embleng     \n",
       "21     0            0        NA            0    0   Arraid Inicont    \n",
       "22     0            0         0          888   NA   Judya Beachez     \n",
       "23    NA          230         0         4476  241   Naviton Coudered  \n",
       "24     0            0        NA            0    0   Jona Mckinsond    \n",
       "25   520            0      1865            0    0   Weet Mane         \n",
       "26   348            0         0            4  368   Blanie Floydendley\n",
       "27     0           NA         0            0    0   Batomam Preent    \n",
       "28    62           NA         0            0   NA   Bel Mcguirez      \n",
       "29     0            0        NA            0    0   Tard Nalanet      \n",
       "30     0            0         0            0   NA   Pentard Baciffhaut\n",
       "⋮    ⋮           ⋮         ⋮            ⋮    ⋮      ⋮                 \n",
       "8664   0            0         0            0    0   Walls Paie        \n",
       "8665   0            0         0            0    0   Cus Paie          \n",
       "8666   6            1       638         1107   23   Catha Bushins     \n",
       "8667   8          752         0            0  687   Joanny Burchrison \n",
       "8668   0            0         0            0    0   Philda Floways    \n",
       "8669   2            0       918          128    0   Per Minen         \n",
       "8670 699            0       600            0    0   Ants Fone         \n",
       "8671 102          696         0            0    0   Dary Bakerrison   \n",
       "8672   0            0         0            0    0   Chrisa Francock   \n",
       "8673   0            0         0            0    0   Melios Kashe      \n",
       "8674   0         8160       205            0  438   Alchium Stranbeate\n",
       "8675   0            0         0            0    0   Muonon Stranbeate \n",
       "8676   0            0         0            0    0   Jimmyn Thomason   \n",
       "8677   0            0         0            0    0   Kenny Mallerez    \n",
       "8678   0            0         0            0    0   Darley Franton    \n",
       "8679   0            0         0            0    0   Therta Casentry   \n",
       "8680   0            0         0            0    0   Giedir Sionerorly \n",
       "8681   0            0         0            0    0   Arraid Opshaft    \n",
       "8682   0            0         0            0    0   Sabi Opshaft      \n",
       "8683   0            0         0            0    0   Agnesa Baldson    \n",
       "8684   0            0         0            0    0   Lan Mckinsond     \n",
       "8685 240          242       510            0    0   Ireene Simson     \n",
       "8686  86            3       149          208  329   Gordo Simson      \n",
       "8687   0            0         0            0    0   Polaton Conable   \n",
       "8688   1         1146         0           50   34   Diram Conable     \n",
       "8689   0         6819         0         1643   74   Gravior Noxnuther \n",
       "8690   0            0         0            0    0   Kurta Mondalley   \n",
       "8691   0            0      1872            1    0   Fayey Connon      \n",
       "8692   0         1049         0          353 3235   Celeon Hontichre  \n",
       "8693 126         4688         0            0   12   Propsh Hontichre  \n",
       "     Transported count_na\n",
       "1     TRUE       3       \n",
       "2    FALSE       3       \n",
       "3    FALSE       3       \n",
       "4    FALSE       3       \n",
       "5     TRUE       3       \n",
       "6    FALSE       3       \n",
       "7     TRUE       3       \n",
       "8     TRUE       3       \n",
       "9     TRUE       3       \n",
       "10   FALSE       3       \n",
       "11   FALSE       3       \n",
       "12    TRUE       3       \n",
       "13   FALSE       3       \n",
       "14    TRUE       3       \n",
       "15    TRUE       3       \n",
       "16    TRUE       3       \n",
       "17    TRUE       3       \n",
       "18    TRUE       2       \n",
       "19    TRUE       2       \n",
       "20    TRUE       2       \n",
       "21    TRUE       2       \n",
       "22   FALSE       2       \n",
       "23   FALSE       2       \n",
       "24    TRUE       2       \n",
       "25    TRUE       2       \n",
       "26   FALSE       2       \n",
       "27    TRUE       2       \n",
       "28   FALSE       2       \n",
       "29    TRUE       2       \n",
       "30    TRUE       2       \n",
       "⋮    ⋮           ⋮       \n",
       "8664  TRUE       0       \n",
       "8665 FALSE       0       \n",
       "8666 FALSE       0       \n",
       "8667  TRUE       0       \n",
       "8668 FALSE       0       \n",
       "8669 FALSE       0       \n",
       "8670 FALSE       0       \n",
       "8671  TRUE       0       \n",
       "8672  TRUE       0       \n",
       "8673  TRUE       0       \n",
       "8674  TRUE       0       \n",
       "8675  TRUE       0       \n",
       "8676  TRUE       0       \n",
       "8677 FALSE       0       \n",
       "8678  TRUE       0       \n",
       "8679 FALSE       0       \n",
       "8680  TRUE       0       \n",
       "8681  TRUE       0       \n",
       "8682  TRUE       0       \n",
       "8683  TRUE       0       \n",
       "8684  TRUE       0       \n",
       "8685  TRUE       0       \n",
       "8686 FALSE       0       \n",
       "8687  TRUE       0       \n",
       "8688 FALSE       0       \n",
       "8689 FALSE       0       \n",
       "8690 FALSE       0       \n",
       "8691  TRUE       0       \n",
       "8692 FALSE       0       \n",
       "8693  TRUE       0       "
      ]
     },
     "metadata": {},
     "output_type": "display_data"
    }
   ],
   "source": [
    "#Count how many NAs there are per row\n",
    "df1$count_na <- rowSums(is.na(df1))\n",
    "df1 %>%\n",
    "arrange(desc(count_na))"
   ]
  },
  {
   "cell_type": "markdown",
   "id": "c7fdd56c",
   "metadata": {
    "papermill": {
     "duration": 0.018368,
     "end_time": "2022-04-29T14:03:19.990026",
     "exception": false,
     "start_time": "2022-04-29T14:03:19.971658",
     "status": "completed"
    },
    "tags": []
   },
   "source": [
    "There is no obvious pattern to the NA columns. In pre-processing, suggest to remove passengers who have more than 3 missing values. "
   ]
  },
  {
   "cell_type": "markdown",
   "id": "bd2a98cd",
   "metadata": {
    "papermill": {
     "duration": 0.010999,
     "end_time": "2022-04-29T14:03:20.012798",
     "exception": false,
     "start_time": "2022-04-29T14:03:20.001799",
     "status": "completed"
    },
    "tags": []
   },
   "source": [
    "# Numerical variable analysis\n",
    "Next let's understand the distribution of numerical variables"
   ]
  },
  {
   "cell_type": "code",
   "execution_count": 7,
   "id": "a89e0cdf",
   "metadata": {
    "_kg_hide-input": false,
    "execution": {
     "iopub.execute_input": "2022-04-29T14:03:20.039551Z",
     "iopub.status.busy": "2022-04-29T14:03:20.037749Z",
     "iopub.status.idle": "2022-04-29T14:03:21.493495Z",
     "shell.execute_reply": "2022-04-29T14:03:21.491381Z"
    },
    "papermill": {
     "duration": 1.471705,
     "end_time": "2022-04-29T14:03:21.496245",
     "exception": false,
     "start_time": "2022-04-29T14:03:20.024540",
     "status": "completed"
    },
    "tags": []
   },
   "outputs": [
    {
     "name": "stderr",
     "output_type": "stream",
     "text": [
      "`stat_bin()` using `bins = 30`. Pick better value with `binwidth`.\n",
      "\n",
      "Warning message:\n",
      "“Removed 181 rows containing non-finite values (stat_bin).”\n",
      "`stat_bin()` using `bins = 30`. Pick better value with `binwidth`.\n",
      "\n",
      "Warning message:\n",
      "“Removed 183 rows containing non-finite values (stat_bin).”\n",
      "`stat_bin()` using `bins = 30`. Pick better value with `binwidth`.\n",
      "\n",
      "Warning message:\n",
      "“Removed 208 rows containing non-finite values (stat_bin).”\n",
      "`stat_bin()` using `bins = 30`. Pick better value with `binwidth`.\n",
      "\n",
      "Warning message:\n",
      "“Removed 183 rows containing non-finite values (stat_bin).”\n",
      "`stat_bin()` using `bins = 30`. Pick better value with `binwidth`.\n",
      "\n",
      "Warning message:\n",
      "“Removed 188 rows containing non-finite values (stat_bin).”\n",
      "Warning message:\n",
      "“Removed 179 rows containing non-finite values (stat_boxplot).”\n"
     ]
    },
    {
     "data": {
      "image/png": "[encoded data removed]"
     },
     "metadata": {
      "image/png": {
       "height": 420,
       "width": 420
      }
     },
     "output_type": "display_data"
    }
   ],
   "source": [
    "#Build plots to show the distribution of numerical variables\n",
    "rsplot <- df1 %>%\n",
    "ggplot() +\n",
    "geom_freqpoly(aes(RoomService))\n",
    "\n",
    "fcplot <- df1 %>%\n",
    "ggplot() +\n",
    "geom_freqpoly(aes(FoodCourt))\n",
    "\n",
    "smplot <- df1 %>%\n",
    "ggplot() +\n",
    "geom_freqpoly(aes(ShoppingMall))\n",
    "\n",
    "spaplot <- df1 %>%\n",
    "ggplot() +\n",
    "geom_freqpoly(aes(Spa))\n",
    "\n",
    "VRplot <- df1 %>%\n",
    "ggplot() +\n",
    "geom_freqpoly(aes(VRDeck))\n",
    "\n",
    "ageplot <- df1 %>%\n",
    "ggplot() +\n",
    "geom_boxplot(aes(Age))\n",
    "\n",
    "grid.arrange(rsplot,fcplot,smplot, spaplot, VRplot, ageplot)"
   ]
  },
  {
   "cell_type": "markdown",
   "id": "6bfdc241",
   "metadata": {
    "papermill": {
     "duration": 0.012653,
     "end_time": "2022-04-29T14:03:21.522081",
     "exception": false,
     "start_time": "2022-04-29T14:03:21.509428",
     "status": "completed"
    },
    "tags": []
   },
   "source": [
    "All the spend variables show a similar distribution, the majority of customers have no spend and so the data is highly skewed.  There are some outliers on the age data - evaluate the effect on the model with / without the outliers."
   ]
  },
  {
   "cell_type": "markdown",
   "id": "882bc5ec",
   "metadata": {
    "papermill": {
     "duration": 0.012958,
     "end_time": "2022-04-29T14:03:21.547678",
     "exception": false,
     "start_time": "2022-04-29T14:03:21.534720",
     "status": "completed"
    },
    "tags": []
   },
   "source": [
    "Summary of action required on numerical variables:\n",
    "* Remove passengers with more than 3 missing items\n",
    "* Impute missing values in numerical columns\n",
    "* Test remove age outliers\n",
    "* Test removing very high spends"
   ]
  },
  {
   "cell_type": "markdown",
   "id": "bbfa20d7",
   "metadata": {
    "papermill": {
     "duration": 0.013148,
     "end_time": "2022-04-29T14:03:21.573753",
     "exception": false,
     "start_time": "2022-04-29T14:03:21.560605",
     "status": "completed"
    },
    "tags": []
   },
   "source": [
    "# Categorical variables\n",
    "Next lets understand the distribution of categorical variables"
   ]
  },
  {
   "cell_type": "code",
   "execution_count": 8,
   "id": "4a5d40f6",
   "metadata": {
    "_kg_hide-input": false,
    "execution": {
     "iopub.execute_input": "2022-04-29T14:03:21.603623Z",
     "iopub.status.busy": "2022-04-29T14:03:21.601769Z",
     "iopub.status.idle": "2022-04-29T14:03:22.043269Z",
     "shell.execute_reply": "2022-04-29T14:03:22.041224Z"
    },
    "papermill": {
     "duration": 0.459261,
     "end_time": "2022-04-29T14:03:22.045921",
     "exception": false,
     "start_time": "2022-04-29T14:03:21.586660",
     "status": "completed"
    },
    "tags": []
   },
   "outputs": [
    {
     "data": {
      "image/png": "[encoded data removed]"
     },
     "metadata": {
      "image/png": {
       "height": 420,
       "width": 420
      }
     },
     "output_type": "display_data"
    }
   ],
   "source": [
    "#Analyse the distribution planet\n",
    "planetplot <- df1 %>%\n",
    "ggplot()+\n",
    "geom_bar(aes(HomePlanet, fill = HomePlanet)) +\n",
    "scale_fill_discrete()\n",
    "\n",
    "planetplot"
   ]
  },
  {
   "cell_type": "markdown",
   "id": "6cd4a851",
   "metadata": {
    "papermill": {
     "duration": 0.014192,
     "end_time": "2022-04-29T14:03:22.073967",
     "exception": false,
     "start_time": "2022-04-29T14:03:22.059775",
     "status": "completed"
    },
    "tags": []
   },
   "source": [
    "The majority of people are coming from Earth - but NA is odd - need to consider in pre-processing."
   ]
  },
  {
   "cell_type": "code",
   "execution_count": 9,
   "id": "54b71a08",
   "metadata": {
    "_kg_hide-input": false,
    "execution": {
     "iopub.execute_input": "2022-04-29T14:03:22.106024Z",
     "iopub.status.busy": "2022-04-29T14:03:22.104315Z",
     "iopub.status.idle": "2022-04-29T14:03:22.551432Z",
     "shell.execute_reply": "2022-04-29T14:03:22.548369Z"
    },
    "papermill": {
     "duration": 0.466202,
     "end_time": "2022-04-29T14:03:22.554439",
     "exception": false,
     "start_time": "2022-04-29T14:03:22.088237",
     "status": "completed"
    },
    "tags": []
   },
   "outputs": [
    {
     "data": {
      "image/png": "[encoded data removed]"
     },
     "metadata": {
      "image/png": {
       "height": 420,
       "width": 420
      }
     },
     "output_type": "display_data"
    }
   ],
   "source": [
    "#Analyse the distribution of Cryosleep\n",
    "cryoplot <- df1 %>%\n",
    "ggplot()+\n",
    "geom_bar(aes(CryoSleep, fill = CryoSleep)) +\n",
    "scale_fill_discrete()\n",
    "\n",
    "cryoplot"
   ]
  },
  {
   "cell_type": "code",
   "execution_count": 10,
   "id": "eb7d891f",
   "metadata": {
    "_kg_hide-input": false,
    "execution": {
     "iopub.execute_input": "2022-04-29T14:03:22.586586Z",
     "iopub.status.busy": "2022-04-29T14:03:22.584954Z",
     "iopub.status.idle": "2022-04-29T14:03:22.783143Z",
     "shell.execute_reply": "2022-04-29T14:03:22.780666Z"
    },
    "papermill": {
     "duration": 0.217388,
     "end_time": "2022-04-29T14:03:22.786274",
     "exception": false,
     "start_time": "2022-04-29T14:03:22.568886",
     "status": "completed"
    },
    "tags": []
   },
   "outputs": [
    {
     "data": {
      "text/html": [
       "<table class=\"dataframe\">\n",
       "<caption>A spec_tbl_df: 6561 × 2</caption>\n",
       "<thead>\n",
       "\t<tr><th scope=col>Cabin</th><th scope=col>n</th></tr>\n",
       "\t<tr><th scope=col>&lt;chr&gt;</th><th scope=col>&lt;int&gt;</th></tr>\n",
       "</thead>\n",
       "<tbody>\n",
       "\t<tr><td>NA      </td><td>199</td></tr>\n",
       "\t<tr><td>G/734/S </td><td>  8</td></tr>\n",
       "\t<tr><td>B/11/S  </td><td>  7</td></tr>\n",
       "\t<tr><td>B/201/P </td><td>  7</td></tr>\n",
       "\t<tr><td>B/82/S  </td><td>  7</td></tr>\n",
       "\t<tr><td>C/137/S </td><td>  7</td></tr>\n",
       "\t<tr><td>C/21/P  </td><td>  7</td></tr>\n",
       "\t<tr><td>D/176/S </td><td>  7</td></tr>\n",
       "\t<tr><td>E/13/S  </td><td>  7</td></tr>\n",
       "\t<tr><td>F/1194/P</td><td>  7</td></tr>\n",
       "\t<tr><td>F/1411/P</td><td>  7</td></tr>\n",
       "\t<tr><td>G/109/P </td><td>  7</td></tr>\n",
       "\t<tr><td>G/1368/P</td><td>  7</td></tr>\n",
       "\t<tr><td>G/1476/S</td><td>  7</td></tr>\n",
       "\t<tr><td>G/981/S </td><td>  7</td></tr>\n",
       "\t<tr><td>A/67/P  </td><td>  6</td></tr>\n",
       "\t<tr><td>B/183/S </td><td>  6</td></tr>\n",
       "\t<tr><td>B/19/S  </td><td>  6</td></tr>\n",
       "\t<tr><td>C/125/S </td><td>  6</td></tr>\n",
       "\t<tr><td>C/225/P </td><td>  6</td></tr>\n",
       "\t<tr><td>C/230/S </td><td>  6</td></tr>\n",
       "\t<tr><td>C/255/S </td><td>  6</td></tr>\n",
       "\t<tr><td>C/306/S </td><td>  6</td></tr>\n",
       "\t<tr><td>C/319/S </td><td>  6</td></tr>\n",
       "\t<tr><td>C/42/P  </td><td>  6</td></tr>\n",
       "\t<tr><td>C/82/P  </td><td>  6</td></tr>\n",
       "\t<tr><td>D/56/P  </td><td>  6</td></tr>\n",
       "\t<tr><td>E/0/S   </td><td>  6</td></tr>\n",
       "\t<tr><td>E/82/P  </td><td>  6</td></tr>\n",
       "\t<tr><td>F/1808/P</td><td>  6</td></tr>\n",
       "\t<tr><td>⋮</td><td>⋮</td></tr>\n",
       "\t<tr><td>G/98/P </td><td>1</td></tr>\n",
       "\t<tr><td>G/98/S </td><td>1</td></tr>\n",
       "\t<tr><td>G/980/P</td><td>1</td></tr>\n",
       "\t<tr><td>G/982/P</td><td>1</td></tr>\n",
       "\t<tr><td>G/983/S</td><td>1</td></tr>\n",
       "\t<tr><td>G/984/P</td><td>1</td></tr>\n",
       "\t<tr><td>G/984/S</td><td>1</td></tr>\n",
       "\t<tr><td>G/985/P</td><td>1</td></tr>\n",
       "\t<tr><td>G/985/S</td><td>1</td></tr>\n",
       "\t<tr><td>G/986/S</td><td>1</td></tr>\n",
       "\t<tr><td>G/987/P</td><td>1</td></tr>\n",
       "\t<tr><td>G/987/S</td><td>1</td></tr>\n",
       "\t<tr><td>G/988/P</td><td>1</td></tr>\n",
       "\t<tr><td>G/988/S</td><td>1</td></tr>\n",
       "\t<tr><td>G/989/S</td><td>1</td></tr>\n",
       "\t<tr><td>G/99/S </td><td>1</td></tr>\n",
       "\t<tr><td>G/990/P</td><td>1</td></tr>\n",
       "\t<tr><td>G/991/P</td><td>1</td></tr>\n",
       "\t<tr><td>G/992/P</td><td>1</td></tr>\n",
       "\t<tr><td>G/992/S</td><td>1</td></tr>\n",
       "\t<tr><td>G/993/S</td><td>1</td></tr>\n",
       "\t<tr><td>G/995/S</td><td>1</td></tr>\n",
       "\t<tr><td>G/996/S</td><td>1</td></tr>\n",
       "\t<tr><td>G/998/P</td><td>1</td></tr>\n",
       "\t<tr><td>G/998/S</td><td>1</td></tr>\n",
       "\t<tr><td>T/0/P  </td><td>1</td></tr>\n",
       "\t<tr><td>T/1/P  </td><td>1</td></tr>\n",
       "\t<tr><td>T/2/P  </td><td>1</td></tr>\n",
       "\t<tr><td>T/2/S  </td><td>1</td></tr>\n",
       "\t<tr><td>T/3/P  </td><td>1</td></tr>\n",
       "</tbody>\n",
       "</table>\n"
      ],
      "text/latex": [
       "A spec\\_tbl\\_df: 6561 × 2\n",
       "\\begin{tabular}{ll}\n",
       " Cabin & n\\\\\n",
       " <chr> & <int>\\\\\n",
       "\\hline\n",
       "\t NA       & 199\\\\\n",
       "\t G/734/S  &   8\\\\\n",
       "\t B/11/S   &   7\\\\\n",
       "\t B/201/P  &   7\\\\\n",
       "\t B/82/S   &   7\\\\\n",
       "\t C/137/S  &   7\\\\\n",
       "\t C/21/P   &   7\\\\\n",
       "\t D/176/S  &   7\\\\\n",
       "\t E/13/S   &   7\\\\\n",
       "\t F/1194/P &   7\\\\\n",
       "\t F/1411/P &   7\\\\\n",
       "\t G/109/P  &   7\\\\\n",
       "\t G/1368/P &   7\\\\\n",
       "\t G/1476/S &   7\\\\\n",
       "\t G/981/S  &   7\\\\\n",
       "\t A/67/P   &   6\\\\\n",
       "\t B/183/S  &   6\\\\\n",
       "\t B/19/S   &   6\\\\\n",
       "\t C/125/S  &   6\\\\\n",
       "\t C/225/P  &   6\\\\\n",
       "\t C/230/S  &   6\\\\\n",
       "\t C/255/S  &   6\\\\\n",
       "\t C/306/S  &   6\\\\\n",
       "\t C/319/S  &   6\\\\\n",
       "\t C/42/P   &   6\\\\\n",
       "\t C/82/P   &   6\\\\\n",
       "\t D/56/P   &   6\\\\\n",
       "\t E/0/S    &   6\\\\\n",
       "\t E/82/P   &   6\\\\\n",
       "\t F/1808/P &   6\\\\\n",
       "\t ⋮ & ⋮\\\\\n",
       "\t G/98/P  & 1\\\\\n",
       "\t G/98/S  & 1\\\\\n",
       "\t G/980/P & 1\\\\\n",
       "\t G/982/P & 1\\\\\n",
       "\t G/983/S & 1\\\\\n",
       "\t G/984/P & 1\\\\\n",
       "\t G/984/S & 1\\\\\n",
       "\t G/985/P & 1\\\\\n",
       "\t G/985/S & 1\\\\\n",
       "\t G/986/S & 1\\\\\n",
       "\t G/987/P & 1\\\\\n",
       "\t G/987/S & 1\\\\\n",
       "\t G/988/P & 1\\\\\n",
       "\t G/988/S & 1\\\\\n",
       "\t G/989/S & 1\\\\\n",
       "\t G/99/S  & 1\\\\\n",
       "\t G/990/P & 1\\\\\n",
       "\t G/991/P & 1\\\\\n",
       "\t G/992/P & 1\\\\\n",
       "\t G/992/S & 1\\\\\n",
       "\t G/993/S & 1\\\\\n",
       "\t G/995/S & 1\\\\\n",
       "\t G/996/S & 1\\\\\n",
       "\t G/998/P & 1\\\\\n",
       "\t G/998/S & 1\\\\\n",
       "\t T/0/P   & 1\\\\\n",
       "\t T/1/P   & 1\\\\\n",
       "\t T/2/P   & 1\\\\\n",
       "\t T/2/S   & 1\\\\\n",
       "\t T/3/P   & 1\\\\\n",
       "\\end{tabular}\n"
      ],
      "text/markdown": [
       "\n",
       "A spec_tbl_df: 6561 × 2\n",
       "\n",
       "| Cabin &lt;chr&gt; | n &lt;int&gt; |\n",
       "|---|---|\n",
       "| NA       | 199 |\n",
       "| G/734/S  |   8 |\n",
       "| B/11/S   |   7 |\n",
       "| B/201/P  |   7 |\n",
       "| B/82/S   |   7 |\n",
       "| C/137/S  |   7 |\n",
       "| C/21/P   |   7 |\n",
       "| D/176/S  |   7 |\n",
       "| E/13/S   |   7 |\n",
       "| F/1194/P |   7 |\n",
       "| F/1411/P |   7 |\n",
       "| G/109/P  |   7 |\n",
       "| G/1368/P |   7 |\n",
       "| G/1476/S |   7 |\n",
       "| G/981/S  |   7 |\n",
       "| A/67/P   |   6 |\n",
       "| B/183/S  |   6 |\n",
       "| B/19/S   |   6 |\n",
       "| C/125/S  |   6 |\n",
       "| C/225/P  |   6 |\n",
       "| C/230/S  |   6 |\n",
       "| C/255/S  |   6 |\n",
       "| C/306/S  |   6 |\n",
       "| C/319/S  |   6 |\n",
       "| C/42/P   |   6 |\n",
       "| C/82/P   |   6 |\n",
       "| D/56/P   |   6 |\n",
       "| E/0/S    |   6 |\n",
       "| E/82/P   |   6 |\n",
       "| F/1808/P |   6 |\n",
       "| ⋮ | ⋮ |\n",
       "| G/98/P  | 1 |\n",
       "| G/98/S  | 1 |\n",
       "| G/980/P | 1 |\n",
       "| G/982/P | 1 |\n",
       "| G/983/S | 1 |\n",
       "| G/984/P | 1 |\n",
       "| G/984/S | 1 |\n",
       "| G/985/P | 1 |\n",
       "| G/985/S | 1 |\n",
       "| G/986/S | 1 |\n",
       "| G/987/P | 1 |\n",
       "| G/987/S | 1 |\n",
       "| G/988/P | 1 |\n",
       "| G/988/S | 1 |\n",
       "| G/989/S | 1 |\n",
       "| G/99/S  | 1 |\n",
       "| G/990/P | 1 |\n",
       "| G/991/P | 1 |\n",
       "| G/992/P | 1 |\n",
       "| G/992/S | 1 |\n",
       "| G/993/S | 1 |\n",
       "| G/995/S | 1 |\n",
       "| G/996/S | 1 |\n",
       "| G/998/P | 1 |\n",
       "| G/998/S | 1 |\n",
       "| T/0/P   | 1 |\n",
       "| T/1/P   | 1 |\n",
       "| T/2/P   | 1 |\n",
       "| T/2/S   | 1 |\n",
       "| T/3/P   | 1 |\n",
       "\n"
      ],
      "text/plain": [
       "     Cabin    n  \n",
       "1    NA       199\n",
       "2    G/734/S    8\n",
       "3    B/11/S     7\n",
       "4    B/201/P    7\n",
       "5    B/82/S     7\n",
       "6    C/137/S    7\n",
       "7    C/21/P     7\n",
       "8    D/176/S    7\n",
       "9    E/13/S     7\n",
       "10   F/1194/P   7\n",
       "11   F/1411/P   7\n",
       "12   G/109/P    7\n",
       "13   G/1368/P   7\n",
       "14   G/1476/S   7\n",
       "15   G/981/S    7\n",
       "16   A/67/P     6\n",
       "17   B/183/S    6\n",
       "18   B/19/S     6\n",
       "19   C/125/S    6\n",
       "20   C/225/P    6\n",
       "21   C/230/S    6\n",
       "22   C/255/S    6\n",
       "23   C/306/S    6\n",
       "24   C/319/S    6\n",
       "25   C/42/P     6\n",
       "26   C/82/P     6\n",
       "27   D/56/P     6\n",
       "28   E/0/S      6\n",
       "29   E/82/P     6\n",
       "30   F/1808/P   6\n",
       "⋮    ⋮        ⋮  \n",
       "6532 G/98/P   1  \n",
       "6533 G/98/S   1  \n",
       "6534 G/980/P  1  \n",
       "6535 G/982/P  1  \n",
       "6536 G/983/S  1  \n",
       "6537 G/984/P  1  \n",
       "6538 G/984/S  1  \n",
       "6539 G/985/P  1  \n",
       "6540 G/985/S  1  \n",
       "6541 G/986/S  1  \n",
       "6542 G/987/P  1  \n",
       "6543 G/987/S  1  \n",
       "6544 G/988/P  1  \n",
       "6545 G/988/S  1  \n",
       "6546 G/989/S  1  \n",
       "6547 G/99/S   1  \n",
       "6548 G/990/P  1  \n",
       "6549 G/991/P  1  \n",
       "6550 G/992/P  1  \n",
       "6551 G/992/S  1  \n",
       "6552 G/993/S  1  \n",
       "6553 G/995/S  1  \n",
       "6554 G/996/S  1  \n",
       "6555 G/998/P  1  \n",
       "6556 G/998/S  1  \n",
       "6557 T/0/P    1  \n",
       "6558 T/1/P    1  \n",
       "6559 T/2/P    1  \n",
       "6560 T/2/S    1  \n",
       "6561 T/3/P    1  "
      ]
     },
     "metadata": {},
     "output_type": "display_data"
    }
   ],
   "source": [
    "#Analyse the distribution of cabin\n",
    "df1 %>%\n",
    "count(Cabin, sort = TRUE)"
   ]
  },
  {
   "cell_type": "markdown",
   "id": "bbcc188f",
   "metadata": {
    "papermill": {
     "duration": 0.014172,
     "end_time": "2022-04-29T14:03:22.815372",
     "exception": false,
     "start_time": "2022-04-29T14:03:22.801200",
     "status": "completed"
    },
    "tags": []
   },
   "source": [
    "This data needs to be split into the deck, number and side of the ship before it can be analysed fully."
   ]
  },
  {
   "cell_type": "code",
   "execution_count": 11,
   "id": "a9dde62e",
   "metadata": {
    "_kg_hide-input": false,
    "execution": {
     "iopub.execute_input": "2022-04-29T14:03:22.848167Z",
     "iopub.status.busy": "2022-04-29T14:03:22.846473Z",
     "iopub.status.idle": "2022-04-29T14:03:23.233869Z",
     "shell.execute_reply": "2022-04-29T14:03:23.231946Z"
    },
    "papermill": {
     "duration": 0.407526,
     "end_time": "2022-04-29T14:03:23.237018",
     "exception": false,
     "start_time": "2022-04-29T14:03:22.829492",
     "status": "completed"
    },
    "tags": []
   },
   "outputs": [
    {
     "data": {
      "image/png": "[encoded data removed]"
     },
     "metadata": {
      "image/png": {
       "height": 420,
       "width": 420
      }
     },
     "output_type": "display_data"
    }
   ],
   "source": [
    "#Analyse the distribution of VIP\n",
    "vipplot <- df1 %>%\n",
    "ggplot()+\n",
    "geom_bar(aes(VIP, fill = VIP)) +\n",
    "scale_fill_discrete()\n",
    "\n",
    "vipplot"
   ]
  },
  {
   "cell_type": "markdown",
   "id": "83a4bf9e",
   "metadata": {
    "papermill": {
     "duration": 0.015152,
     "end_time": "2022-04-29T14:03:23.267318",
     "exception": false,
     "start_time": "2022-04-29T14:03:23.252166",
     "status": "completed"
    },
    "tags": []
   },
   "source": [
    "Majority of people are not VIP.  Need to address the NA."
   ]
  },
  {
   "cell_type": "markdown",
   "id": "c04153cf",
   "metadata": {
    "papermill": {
     "duration": 0.01847,
     "end_time": "2022-04-29T14:03:23.303910",
     "exception": false,
     "start_time": "2022-04-29T14:03:23.285440",
     "status": "completed"
    },
    "tags": []
   },
   "source": [
    "Summary of preprocessing required on categorical variables:\n",
    "* Impute NA values with the mode\n",
    "* Split the cabin variable\n",
    "* Encode the categorical variables\n"
   ]
  },
  {
   "cell_type": "markdown",
   "id": "96d6fc59",
   "metadata": {
    "papermill": {
     "duration": 0.014647,
     "end_time": "2022-04-29T14:03:23.335704",
     "exception": false,
     "start_time": "2022-04-29T14:03:23.321057",
     "status": "completed"
    },
    "tags": []
   },
   "source": [
    "# Bivariate analysis\n",
    "\n",
    "First lets understand the effect of numerical variables on the target variable by using a simple correlation."
   ]
  },
  {
   "cell_type": "code",
   "execution_count": 12,
   "id": "8444ef0d",
   "metadata": {
    "_kg_hide-input": false,
    "execution": {
     "iopub.execute_input": "2022-04-29T14:03:23.368600Z",
     "iopub.status.busy": "2022-04-29T14:03:23.366716Z",
     "iopub.status.idle": "2022-04-29T14:03:23.409530Z",
     "shell.execute_reply": "2022-04-29T14:03:23.407161Z"
    },
    "papermill": {
     "duration": 0.062129,
     "end_time": "2022-04-29T14:03:23.412378",
     "exception": false,
     "start_time": "2022-04-29T14:03:23.350249",
     "status": "completed"
    },
    "tags": []
   },
   "outputs": [
    {
     "data": {
      "text/html": [
       "<table class=\"dataframe\">\n",
       "<caption>A matrix: 6 × 6 of type dbl</caption>\n",
       "<thead>\n",
       "\t<tr><th></th><th scope=col>RoomService</th><th scope=col>FoodCourt</th><th scope=col>ShoppingMall</th><th scope=col>Spa</th><th scope=col>VRDeck</th><th scope=col>Transported</th></tr>\n",
       "</thead>\n",
       "<tbody>\n",
       "\t<tr><th scope=row>RoomService</th><td> 1.000000000</td><td>-0.01620439</td><td> 0.055129139</td><td> 0.009858203</td><td>-0.018251928</td><td>-0.24363821</td></tr>\n",
       "\t<tr><th scope=row>FoodCourt</th><td>-0.016204390</td><td> 1.00000000</td><td>-0.013133927</td><td> 0.221767894</td><td> 0.226065005</td><td> 0.05067008</td></tr>\n",
       "\t<tr><th scope=row>ShoppingMall</th><td> 0.055129139</td><td>-0.01313393</td><td> 1.000000000</td><td> 0.016489705</td><td>-0.004490168</td><td> 0.00769300</td></tr>\n",
       "\t<tr><th scope=row>Spa</th><td> 0.009858203</td><td> 0.22176789</td><td> 0.016489705</td><td> 1.000000000</td><td> 0.146568539</td><td>-0.22152030</td></tr>\n",
       "\t<tr><th scope=row>VRDeck</th><td>-0.018251928</td><td> 0.22606501</td><td>-0.004490168</td><td> 0.146568539</td><td> 1.000000000</td><td>-0.20755073</td></tr>\n",
       "\t<tr><th scope=row>Transported</th><td>-0.243638213</td><td> 0.05067008</td><td> 0.007693000</td><td>-0.221520300</td><td>-0.207550729</td><td> 1.00000000</td></tr>\n",
       "</tbody>\n",
       "</table>\n"
      ],
      "text/latex": [
       "A matrix: 6 × 6 of type dbl\n",
       "\\begin{tabular}{r|llllll}\n",
       "  & RoomService & FoodCourt & ShoppingMall & Spa & VRDeck & Transported\\\\\n",
       "\\hline\n",
       "\tRoomService &  1.000000000 & -0.01620439 &  0.055129139 &  0.009858203 & -0.018251928 & -0.24363821\\\\\n",
       "\tFoodCourt & -0.016204390 &  1.00000000 & -0.013133927 &  0.221767894 &  0.226065005 &  0.05067008\\\\\n",
       "\tShoppingMall &  0.055129139 & -0.01313393 &  1.000000000 &  0.016489705 & -0.004490168 &  0.00769300\\\\\n",
       "\tSpa &  0.009858203 &  0.22176789 &  0.016489705 &  1.000000000 &  0.146568539 & -0.22152030\\\\\n",
       "\tVRDeck & -0.018251928 &  0.22606501 & -0.004490168 &  0.146568539 &  1.000000000 & -0.20755073\\\\\n",
       "\tTransported & -0.243638213 &  0.05067008 &  0.007693000 & -0.221520300 & -0.207550729 &  1.00000000\\\\\n",
       "\\end{tabular}\n"
      ],
      "text/markdown": [
       "\n",
       "A matrix: 6 × 6 of type dbl\n",
       "\n",
       "| <!--/--> | RoomService | FoodCourt | ShoppingMall | Spa | VRDeck | Transported |\n",
       "|---|---|---|---|---|---|---|\n",
       "| RoomService |  1.000000000 | -0.01620439 |  0.055129139 |  0.009858203 | -0.018251928 | -0.24363821 |\n",
       "| FoodCourt | -0.016204390 |  1.00000000 | -0.013133927 |  0.221767894 |  0.226065005 |  0.05067008 |\n",
       "| ShoppingMall |  0.055129139 | -0.01313393 |  1.000000000 |  0.016489705 | -0.004490168 |  0.00769300 |\n",
       "| Spa |  0.009858203 |  0.22176789 |  0.016489705 |  1.000000000 |  0.146568539 | -0.22152030 |\n",
       "| VRDeck | -0.018251928 |  0.22606501 | -0.004490168 |  0.146568539 |  1.000000000 | -0.20755073 |\n",
       "| Transported | -0.243638213 |  0.05067008 |  0.007693000 | -0.221520300 | -0.207550729 |  1.00000000 |\n",
       "\n"
      ],
      "text/plain": [
       "             RoomService  FoodCourt   ShoppingMall Spa          VRDeck      \n",
       "RoomService   1.000000000 -0.01620439  0.055129139  0.009858203 -0.018251928\n",
       "FoodCourt    -0.016204390  1.00000000 -0.013133927  0.221767894  0.226065005\n",
       "ShoppingMall  0.055129139 -0.01313393  1.000000000  0.016489705 -0.004490168\n",
       "Spa           0.009858203  0.22176789  0.016489705  1.000000000  0.146568539\n",
       "VRDeck       -0.018251928  0.22606501 -0.004490168  0.146568539  1.000000000\n",
       "Transported  -0.243638213  0.05067008  0.007693000 -0.221520300 -0.207550729\n",
       "             Transported\n",
       "RoomService  -0.24363821\n",
       "FoodCourt     0.05067008\n",
       "ShoppingMall  0.00769300\n",
       "Spa          -0.22152030\n",
       "VRDeck       -0.20755073\n",
       "Transported   1.00000000"
      ]
     },
     "metadata": {},
     "output_type": "display_data"
    }
   ],
   "source": [
    "#Build the correlation table\n",
    "df1 %>%\n",
    "select(RoomService,FoodCourt,ShoppingMall,Spa,VRDeck,Transported) %>%\n",
    "cor(use = \"complete.obs\")"
   ]
  },
  {
   "cell_type": "code",
   "execution_count": 13,
   "id": "4523ad56",
   "metadata": {
    "_kg_hide-input": false,
    "execution": {
     "iopub.execute_input": "2022-04-29T14:03:23.449335Z",
     "iopub.status.busy": "2022-04-29T14:03:23.447182Z",
     "iopub.status.idle": "2022-04-29T14:03:23.596143Z",
     "shell.execute_reply": "2022-04-29T14:03:23.594201Z"
    },
    "papermill": {
     "duration": 0.171245,
     "end_time": "2022-04-29T14:03:23.598508",
     "exception": false,
     "start_time": "2022-04-29T14:03:23.427263",
     "status": "completed"
    },
    "tags": []
   },
   "outputs": [
    {
     "data": {
      "image/png": "[encoded data removed]"
     },
     "metadata": {
      "image/png": {
       "height": 420,
       "width": 420
      }
     },
     "output_type": "display_data"
    }
   ],
   "source": [
    "#Build the correlation matrix\n",
    "df1 %>%\n",
    "select(RoomService,FoodCourt,ShoppingMall,Spa,VRDeck,Transported) %>%\n",
    "cor(use = \"complete.obs\") %>%\n",
    "corrplot(type = 'upper')"
   ]
  },
  {
   "cell_type": "markdown",
   "id": "e15fd703",
   "metadata": {
    "papermill": {
     "duration": 0.016091,
     "end_time": "2022-04-29T14:03:23.630721",
     "exception": false,
     "start_time": "2022-04-29T14:03:23.614630",
     "status": "completed"
    },
    "tags": []
   },
   "source": [
    "Next let's understand how categorical variables affect the target."
   ]
  },
  {
   "cell_type": "code",
   "execution_count": 14,
   "id": "07957ca0",
   "metadata": {
    "_kg_hide-input": false,
    "execution": {
     "iopub.execute_input": "2022-04-29T14:03:23.667120Z",
     "iopub.status.busy": "2022-04-29T14:03:23.665455Z",
     "iopub.status.idle": "2022-04-29T14:03:23.693659Z",
     "shell.execute_reply": "2022-04-29T14:03:23.691058Z"
    },
    "papermill": {
     "duration": 0.050202,
     "end_time": "2022-04-29T14:03:23.697047",
     "exception": false,
     "start_time": "2022-04-29T14:03:23.646845",
     "status": "completed"
    },
    "tags": []
   },
   "outputs": [
    {
     "name": "stdout",
     "output_type": "stream",
     "text": [
      "\n",
      " \n",
      "   Cell Contents\n",
      "|-------------------------|\n",
      "|                       N |\n",
      "|           N / Row Total |\n",
      "|-------------------------|\n",
      "\n",
      " \n",
      "Total Observations in Table:  8492 \n",
      "\n",
      " \n",
      "               | df1$Transported \n",
      "df1$HomePlanet |     FALSE |      TRUE | Row Total | \n",
      "---------------|-----------|-----------|-----------|\n",
      "         Earth |      2651 |      1951 |      4602 | \n",
      "               |     0.576 |     0.424 |     0.542 | \n",
      "---------------|-----------|-----------|-----------|\n",
      "        Europa |       727 |      1404 |      2131 | \n",
      "               |     0.341 |     0.659 |     0.251 | \n",
      "---------------|-----------|-----------|-----------|\n",
      "          Mars |       839 |       920 |      1759 | \n",
      "               |     0.477 |     0.523 |     0.207 | \n",
      "---------------|-----------|-----------|-----------|\n",
      "  Column Total |      4217 |      4275 |      8492 | \n",
      "---------------|-----------|-----------|-----------|\n",
      "\n",
      " \n"
     ]
    }
   ],
   "source": [
    "#Understand the effect of planet\n",
    "CrossTable(df1$HomePlanet, df1$Transported, prop.c = FALSE, prop.r = TRUE, prop.t = FALSE, expected = FALSE, prop.chi = FALSE)"
   ]
  },
  {
   "cell_type": "markdown",
   "id": "241e0af8",
   "metadata": {
    "papermill": {
     "duration": 0.016625,
     "end_time": "2022-04-29T14:03:23.730957",
     "exception": false,
     "start_time": "2022-04-29T14:03:23.714332",
     "status": "completed"
    },
    "tags": []
   },
   "source": [
    "It looks like people who were coming from Europe are more likely to be transported"
   ]
  },
  {
   "cell_type": "code",
   "execution_count": 15,
   "id": "db31cb1b",
   "metadata": {
    "_kg_hide-input": false,
    "execution": {
     "iopub.execute_input": "2022-04-29T14:03:23.767144Z",
     "iopub.status.busy": "2022-04-29T14:03:23.765546Z",
     "iopub.status.idle": "2022-04-29T14:03:23.789098Z",
     "shell.execute_reply": "2022-04-29T14:03:23.786728Z"
    },
    "papermill": {
     "duration": 0.04412,
     "end_time": "2022-04-29T14:03:23.791550",
     "exception": false,
     "start_time": "2022-04-29T14:03:23.747430",
     "status": "completed"
    },
    "tags": []
   },
   "outputs": [
    {
     "name": "stdout",
     "output_type": "stream",
     "text": [
      "\n",
      " \n",
      "   Cell Contents\n",
      "|-------------------------|\n",
      "|                       N |\n",
      "|           N / Row Total |\n",
      "|-------------------------|\n",
      "\n",
      " \n",
      "Total Observations in Table:  8476 \n",
      "\n",
      " \n",
      "              | df1$Transported \n",
      "df1$CryoSleep |     FALSE |      TRUE | Row Total | \n",
      "--------------|-----------|-----------|-----------|\n",
      "        FALSE |      3650 |      1789 |      5439 | \n",
      "              |     0.671 |     0.329 |     0.642 | \n",
      "--------------|-----------|-----------|-----------|\n",
      "         TRUE |       554 |      2483 |      3037 | \n",
      "              |     0.182 |     0.818 |     0.358 | \n",
      "--------------|-----------|-----------|-----------|\n",
      " Column Total |      4204 |      4272 |      8476 | \n",
      "--------------|-----------|-----------|-----------|\n",
      "\n",
      " \n"
     ]
    }
   ],
   "source": [
    "#Udnersatnd the effect of Cryosleep\n",
    "CrossTable(df1$CryoSleep, df1$Transported, prop.c = FALSE, prop.r = TRUE, prop.t = FALSE, expected = FALSE, prop.chi = FALSE)"
   ]
  },
  {
   "cell_type": "markdown",
   "id": "066d4f04",
   "metadata": {
    "papermill": {
     "duration": 0.016347,
     "end_time": "2022-04-29T14:03:23.824226",
     "exception": false,
     "start_time": "2022-04-29T14:03:23.807879",
     "status": "completed"
    },
    "tags": []
   },
   "source": [
    "It looks like people who were put to Cryosleep are more likely to be transported."
   ]
  },
  {
   "cell_type": "code",
   "execution_count": 16,
   "id": "d427c184",
   "metadata": {
    "_kg_hide-input": false,
    "execution": {
     "iopub.execute_input": "2022-04-29T14:03:23.860249Z",
     "iopub.status.busy": "2022-04-29T14:03:23.858513Z",
     "iopub.status.idle": "2022-04-29T14:03:23.881879Z",
     "shell.execute_reply": "2022-04-29T14:03:23.879437Z"
    },
    "papermill": {
     "duration": 0.043659,
     "end_time": "2022-04-29T14:03:23.884286",
     "exception": false,
     "start_time": "2022-04-29T14:03:23.840627",
     "status": "completed"
    },
    "tags": []
   },
   "outputs": [
    {
     "name": "stdout",
     "output_type": "stream",
     "text": [
      "\n",
      " \n",
      "   Cell Contents\n",
      "|-------------------------|\n",
      "|                       N |\n",
      "|           N / Row Total |\n",
      "|-------------------------|\n",
      "\n",
      " \n",
      "Total Observations in Table:  8490 \n",
      "\n",
      " \n",
      "             | df1$Transported \n",
      "     df1$VIP |     FALSE |      TRUE | Row Total | \n",
      "-------------|-----------|-----------|-----------|\n",
      "       FALSE |      4093 |      4198 |      8291 | \n",
      "             |     0.494 |     0.506 |     0.977 | \n",
      "-------------|-----------|-----------|-----------|\n",
      "        TRUE |       123 |        76 |       199 | \n",
      "             |     0.618 |     0.382 |     0.023 | \n",
      "-------------|-----------|-----------|-----------|\n",
      "Column Total |      4216 |      4274 |      8490 | \n",
      "-------------|-----------|-----------|-----------|\n",
      "\n",
      " \n"
     ]
    }
   ],
   "source": [
    "#Understand the effect of VIP\n",
    "CrossTable(df1$VIP, df1$Transported, prop.c = FALSE, prop.r = TRUE, prop.t = FALSE, expected = FALSE, prop.chi = FALSE)"
   ]
  },
  {
   "cell_type": "code",
   "execution_count": 17,
   "id": "fbc67e3a",
   "metadata": {
    "execution": {
     "iopub.execute_input": "2022-04-29T14:03:23.920471Z",
     "iopub.status.busy": "2022-04-29T14:03:23.918668Z",
     "iopub.status.idle": "2022-04-29T14:03:23.932575Z",
     "shell.execute_reply": "2022-04-29T14:03:23.930549Z"
    },
    "papermill": {
     "duration": 0.034311,
     "end_time": "2022-04-29T14:03:23.934947",
     "exception": true,
     "start_time": "2022-04-29T14:03:23.900636",
     "status": "failed"
    },
    "tags": []
   },
   "outputs": [
    {
     "ename": "ERROR",
     "evalue": "Error in parse(text = x, srcfile = src): <text>:1:6: unexpected symbol\n1: VIPs are\n         ^\n",
     "output_type": "error",
     "traceback": [
      "Error in parse(text = x, srcfile = src): <text>:1:6: unexpected symbol\n1: VIPs are\n         ^\nTraceback:\n"
     ]
    }
   ],
   "source": [
    "VIPs are less likely to be transported"
   ]
  },
  {
   "cell_type": "markdown",
   "id": "b830ff6f",
   "metadata": {
    "papermill": {
     "duration": null,
     "end_time": null,
     "exception": null,
     "start_time": null,
     "status": "pending"
    },
    "tags": []
   },
   "source": [
    "# Summary of pre-processing actions required\n"
   ]
  },
  {
   "cell_type": "markdown",
   "id": "cd21adec",
   "metadata": {
    "papermill": {
     "duration": null,
     "end_time": null,
     "exception": null,
     "start_time": null,
     "status": "pending"
    },
    "tags": []
   },
   "source": [
    "Summary of action required on numerical variables:\n",
    "\n",
    "* Remove passengers with more than 3 missing items\n",
    "* Impute missing values in numerical columns\n",
    "* Test remove age outliers\n",
    "* Test removing very high spends  \n",
    "\n",
    "Summary of preprocessing required on categorical variables:\n",
    "\n",
    "Impute NA values with the mode\n",
    "Split the cabin variable\n",
    "Encode the categorical variables"
   ]
  }
 ],
 "metadata": {
  "kernelspec": {
   "display_name": "R",
   "language": "R",
   "name": "ir"
  },
  "language_info": {
   "codemirror_mode": "r",
   "file_extension": ".r",
   "mimetype": "text/x-r-source",
   "name": "R",
   "pygments_lexer": "r",
   "version": "4.0.5"
  },
  "papermill": {
   "default_parameters": {},
   "duration": 10.289858,
   "end_time": "2022-04-29T14:03:24.073639",
   "environment_variables": {},
   "exception": true,
   "input_path": "__notebook__.ipynb",
   "output_path": "__notebook__.ipynb",
   "parameters": {},
   "start_time": "2022-04-29T14:03:13.783781",
   "version": "2.3.4"
  }
 },
 "nbformat": 4,
 "nbformat_minor": 5
}
